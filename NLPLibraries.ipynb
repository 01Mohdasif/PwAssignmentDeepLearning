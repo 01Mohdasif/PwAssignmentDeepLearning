{
  "nbformat": 4,
  "nbformat_minor": 0,
  "metadata": {
    "colab": {
      "provenance": []
    },
    "kernelspec": {
      "name": "python3",
      "display_name": "Python 3"
    },
    "language_info": {
      "name": "python"
    },
    "widgets": {
      "application/vnd.jupyter.widget-state+json": {
        "101283ba0097481aa33413a007cfb242": {
          "model_module": "@jupyter-widgets/controls",
          "model_name": "HBoxModel",
          "model_module_version": "1.5.0",
          "state": {
            "_dom_classes": [],
            "_model_module": "@jupyter-widgets/controls",
            "_model_module_version": "1.5.0",
            "_model_name": "HBoxModel",
            "_view_count": null,
            "_view_module": "@jupyter-widgets/controls",
            "_view_module_version": "1.5.0",
            "_view_name": "HBoxView",
            "box_style": "",
            "children": [
              "IPY_MODEL_212dc9e9aed4414696c1317f758bca43",
              "IPY_MODEL_5587364834894f6ba86e92cf949b2995",
              "IPY_MODEL_9d3750fc1ff04d9cb1a8487b3e8ccb9d"
            ],
            "layout": "IPY_MODEL_4c32b03c71994e729959ff8b377ebc3d"
          }
        },
        "212dc9e9aed4414696c1317f758bca43": {
          "model_module": "@jupyter-widgets/controls",
          "model_name": "HTMLModel",
          "model_module_version": "1.5.0",
          "state": {
            "_dom_classes": [],
            "_model_module": "@jupyter-widgets/controls",
            "_model_module_version": "1.5.0",
            "_model_name": "HTMLModel",
            "_view_count": null,
            "_view_module": "@jupyter-widgets/controls",
            "_view_module_version": "1.5.0",
            "_view_name": "HTMLView",
            "description": "",
            "description_tooltip": null,
            "layout": "IPY_MODEL_7ef3e054bbaa44aa8c1e5d8f84628140",
            "placeholder": "​",
            "style": "IPY_MODEL_04b356261a8948ad968f8fa18f057b4f",
            "value": "config.json: 100%"
          }
        },
        "5587364834894f6ba86e92cf949b2995": {
          "model_module": "@jupyter-widgets/controls",
          "model_name": "FloatProgressModel",
          "model_module_version": "1.5.0",
          "state": {
            "_dom_classes": [],
            "_model_module": "@jupyter-widgets/controls",
            "_model_module_version": "1.5.0",
            "_model_name": "FloatProgressModel",
            "_view_count": null,
            "_view_module": "@jupyter-widgets/controls",
            "_view_module_version": "1.5.0",
            "_view_name": "ProgressView",
            "bar_style": "success",
            "description": "",
            "description_tooltip": null,
            "layout": "IPY_MODEL_dcc16d3702de4de88d11ce888fdddbf7",
            "max": 629,
            "min": 0,
            "orientation": "horizontal",
            "style": "IPY_MODEL_2572447585e64177b7142e5ed77398cb",
            "value": 629
          }
        },
        "9d3750fc1ff04d9cb1a8487b3e8ccb9d": {
          "model_module": "@jupyter-widgets/controls",
          "model_name": "HTMLModel",
          "model_module_version": "1.5.0",
          "state": {
            "_dom_classes": [],
            "_model_module": "@jupyter-widgets/controls",
            "_model_module_version": "1.5.0",
            "_model_name": "HTMLModel",
            "_view_count": null,
            "_view_module": "@jupyter-widgets/controls",
            "_view_module_version": "1.5.0",
            "_view_name": "HTMLView",
            "description": "",
            "description_tooltip": null,
            "layout": "IPY_MODEL_2f1f188a1efe4d92a6a0abdc5b95844f",
            "placeholder": "​",
            "style": "IPY_MODEL_186aa6c79eaf4bc08f730885d4ac9b4a",
            "value": " 629/629 [00:00&lt;00:00, 35.0kB/s]"
          }
        },
        "4c32b03c71994e729959ff8b377ebc3d": {
          "model_module": "@jupyter-widgets/base",
          "model_name": "LayoutModel",
          "model_module_version": "1.2.0",
          "state": {
            "_model_module": "@jupyter-widgets/base",
            "_model_module_version": "1.2.0",
            "_model_name": "LayoutModel",
            "_view_count": null,
            "_view_module": "@jupyter-widgets/base",
            "_view_module_version": "1.2.0",
            "_view_name": "LayoutView",
            "align_content": null,
            "align_items": null,
            "align_self": null,
            "border": null,
            "bottom": null,
            "display": null,
            "flex": null,
            "flex_flow": null,
            "grid_area": null,
            "grid_auto_columns": null,
            "grid_auto_flow": null,
            "grid_auto_rows": null,
            "grid_column": null,
            "grid_gap": null,
            "grid_row": null,
            "grid_template_areas": null,
            "grid_template_columns": null,
            "grid_template_rows": null,
            "height": null,
            "justify_content": null,
            "justify_items": null,
            "left": null,
            "margin": null,
            "max_height": null,
            "max_width": null,
            "min_height": null,
            "min_width": null,
            "object_fit": null,
            "object_position": null,
            "order": null,
            "overflow": null,
            "overflow_x": null,
            "overflow_y": null,
            "padding": null,
            "right": null,
            "top": null,
            "visibility": null,
            "width": null
          }
        },
        "7ef3e054bbaa44aa8c1e5d8f84628140": {
          "model_module": "@jupyter-widgets/base",
          "model_name": "LayoutModel",
          "model_module_version": "1.2.0",
          "state": {
            "_model_module": "@jupyter-widgets/base",
            "_model_module_version": "1.2.0",
            "_model_name": "LayoutModel",
            "_view_count": null,
            "_view_module": "@jupyter-widgets/base",
            "_view_module_version": "1.2.0",
            "_view_name": "LayoutView",
            "align_content": null,
            "align_items": null,
            "align_self": null,
            "border": null,
            "bottom": null,
            "display": null,
            "flex": null,
            "flex_flow": null,
            "grid_area": null,
            "grid_auto_columns": null,
            "grid_auto_flow": null,
            "grid_auto_rows": null,
            "grid_column": null,
            "grid_gap": null,
            "grid_row": null,
            "grid_template_areas": null,
            "grid_template_columns": null,
            "grid_template_rows": null,
            "height": null,
            "justify_content": null,
            "justify_items": null,
            "left": null,
            "margin": null,
            "max_height": null,
            "max_width": null,
            "min_height": null,
            "min_width": null,
            "object_fit": null,
            "object_position": null,
            "order": null,
            "overflow": null,
            "overflow_x": null,
            "overflow_y": null,
            "padding": null,
            "right": null,
            "top": null,
            "visibility": null,
            "width": null
          }
        },
        "04b356261a8948ad968f8fa18f057b4f": {
          "model_module": "@jupyter-widgets/controls",
          "model_name": "DescriptionStyleModel",
          "model_module_version": "1.5.0",
          "state": {
            "_model_module": "@jupyter-widgets/controls",
            "_model_module_version": "1.5.0",
            "_model_name": "DescriptionStyleModel",
            "_view_count": null,
            "_view_module": "@jupyter-widgets/base",
            "_view_module_version": "1.2.0",
            "_view_name": "StyleView",
            "description_width": ""
          }
        },
        "dcc16d3702de4de88d11ce888fdddbf7": {
          "model_module": "@jupyter-widgets/base",
          "model_name": "LayoutModel",
          "model_module_version": "1.2.0",
          "state": {
            "_model_module": "@jupyter-widgets/base",
            "_model_module_version": "1.2.0",
            "_model_name": "LayoutModel",
            "_view_count": null,
            "_view_module": "@jupyter-widgets/base",
            "_view_module_version": "1.2.0",
            "_view_name": "LayoutView",
            "align_content": null,
            "align_items": null,
            "align_self": null,
            "border": null,
            "bottom": null,
            "display": null,
            "flex": null,
            "flex_flow": null,
            "grid_area": null,
            "grid_auto_columns": null,
            "grid_auto_flow": null,
            "grid_auto_rows": null,
            "grid_column": null,
            "grid_gap": null,
            "grid_row": null,
            "grid_template_areas": null,
            "grid_template_columns": null,
            "grid_template_rows": null,
            "height": null,
            "justify_content": null,
            "justify_items": null,
            "left": null,
            "margin": null,
            "max_height": null,
            "max_width": null,
            "min_height": null,
            "min_width": null,
            "object_fit": null,
            "object_position": null,
            "order": null,
            "overflow": null,
            "overflow_x": null,
            "overflow_y": null,
            "padding": null,
            "right": null,
            "top": null,
            "visibility": null,
            "width": null
          }
        },
        "2572447585e64177b7142e5ed77398cb": {
          "model_module": "@jupyter-widgets/controls",
          "model_name": "ProgressStyleModel",
          "model_module_version": "1.5.0",
          "state": {
            "_model_module": "@jupyter-widgets/controls",
            "_model_module_version": "1.5.0",
            "_model_name": "ProgressStyleModel",
            "_view_count": null,
            "_view_module": "@jupyter-widgets/base",
            "_view_module_version": "1.2.0",
            "_view_name": "StyleView",
            "bar_color": null,
            "description_width": ""
          }
        },
        "2f1f188a1efe4d92a6a0abdc5b95844f": {
          "model_module": "@jupyter-widgets/base",
          "model_name": "LayoutModel",
          "model_module_version": "1.2.0",
          "state": {
            "_model_module": "@jupyter-widgets/base",
            "_model_module_version": "1.2.0",
            "_model_name": "LayoutModel",
            "_view_count": null,
            "_view_module": "@jupyter-widgets/base",
            "_view_module_version": "1.2.0",
            "_view_name": "LayoutView",
            "align_content": null,
            "align_items": null,
            "align_self": null,
            "border": null,
            "bottom": null,
            "display": null,
            "flex": null,
            "flex_flow": null,
            "grid_area": null,
            "grid_auto_columns": null,
            "grid_auto_flow": null,
            "grid_auto_rows": null,
            "grid_column": null,
            "grid_gap": null,
            "grid_row": null,
            "grid_template_areas": null,
            "grid_template_columns": null,
            "grid_template_rows": null,
            "height": null,
            "justify_content": null,
            "justify_items": null,
            "left": null,
            "margin": null,
            "max_height": null,
            "max_width": null,
            "min_height": null,
            "min_width": null,
            "object_fit": null,
            "object_position": null,
            "order": null,
            "overflow": null,
            "overflow_x": null,
            "overflow_y": null,
            "padding": null,
            "right": null,
            "top": null,
            "visibility": null,
            "width": null
          }
        },
        "186aa6c79eaf4bc08f730885d4ac9b4a": {
          "model_module": "@jupyter-widgets/controls",
          "model_name": "DescriptionStyleModel",
          "model_module_version": "1.5.0",
          "state": {
            "_model_module": "@jupyter-widgets/controls",
            "_model_module_version": "1.5.0",
            "_model_name": "DescriptionStyleModel",
            "_view_count": null,
            "_view_module": "@jupyter-widgets/base",
            "_view_module_version": "1.2.0",
            "_view_name": "StyleView",
            "description_width": ""
          }
        },
        "5752cd6b18684a06a5ef8a70b1efca9a": {
          "model_module": "@jupyter-widgets/controls",
          "model_name": "HBoxModel",
          "model_module_version": "1.5.0",
          "state": {
            "_dom_classes": [],
            "_model_module": "@jupyter-widgets/controls",
            "_model_module_version": "1.5.0",
            "_model_name": "HBoxModel",
            "_view_count": null,
            "_view_module": "@jupyter-widgets/controls",
            "_view_module_version": "1.5.0",
            "_view_name": "HBoxView",
            "box_style": "",
            "children": [
              "IPY_MODEL_4f87d4cd0b6e431b8497a49ab25880cd",
              "IPY_MODEL_c01654e531204025925c0f547cc635f2",
              "IPY_MODEL_5e94bb0139c44f15b1c6a5b5b71737d4"
            ],
            "layout": "IPY_MODEL_f29c2db092b04a53a918cb08d910e71e"
          }
        },
        "4f87d4cd0b6e431b8497a49ab25880cd": {
          "model_module": "@jupyter-widgets/controls",
          "model_name": "HTMLModel",
          "model_module_version": "1.5.0",
          "state": {
            "_dom_classes": [],
            "_model_module": "@jupyter-widgets/controls",
            "_model_module_version": "1.5.0",
            "_model_name": "HTMLModel",
            "_view_count": null,
            "_view_module": "@jupyter-widgets/controls",
            "_view_module_version": "1.5.0",
            "_view_name": "HTMLView",
            "description": "",
            "description_tooltip": null,
            "layout": "IPY_MODEL_7b886e9df7f147c1b15a65aa1873e283",
            "placeholder": "​",
            "style": "IPY_MODEL_386d1409ccdb4a349a671fa6401ed0e1",
            "value": "model.safetensors: 100%"
          }
        },
        "c01654e531204025925c0f547cc635f2": {
          "model_module": "@jupyter-widgets/controls",
          "model_name": "FloatProgressModel",
          "model_module_version": "1.5.0",
          "state": {
            "_dom_classes": [],
            "_model_module": "@jupyter-widgets/controls",
            "_model_module_version": "1.5.0",
            "_model_name": "FloatProgressModel",
            "_view_count": null,
            "_view_module": "@jupyter-widgets/controls",
            "_view_module_version": "1.5.0",
            "_view_name": "ProgressView",
            "bar_style": "success",
            "description": "",
            "description_tooltip": null,
            "layout": "IPY_MODEL_c9a8408321f54ee38eacabb03cf73c0a",
            "max": 267832558,
            "min": 0,
            "orientation": "horizontal",
            "style": "IPY_MODEL_1a04bfe5b23142ea8183fa68c408991a",
            "value": 267832558
          }
        },
        "5e94bb0139c44f15b1c6a5b5b71737d4": {
          "model_module": "@jupyter-widgets/controls",
          "model_name": "HTMLModel",
          "model_module_version": "1.5.0",
          "state": {
            "_dom_classes": [],
            "_model_module": "@jupyter-widgets/controls",
            "_model_module_version": "1.5.0",
            "_model_name": "HTMLModel",
            "_view_count": null,
            "_view_module": "@jupyter-widgets/controls",
            "_view_module_version": "1.5.0",
            "_view_name": "HTMLView",
            "description": "",
            "description_tooltip": null,
            "layout": "IPY_MODEL_511bd06161f042a7ba14800c1f20d028",
            "placeholder": "​",
            "style": "IPY_MODEL_f66fb209ca13472cb55c12650b846ac3",
            "value": " 268M/268M [00:01&lt;00:00, 194MB/s]"
          }
        },
        "f29c2db092b04a53a918cb08d910e71e": {
          "model_module": "@jupyter-widgets/base",
          "model_name": "LayoutModel",
          "model_module_version": "1.2.0",
          "state": {
            "_model_module": "@jupyter-widgets/base",
            "_model_module_version": "1.2.0",
            "_model_name": "LayoutModel",
            "_view_count": null,
            "_view_module": "@jupyter-widgets/base",
            "_view_module_version": "1.2.0",
            "_view_name": "LayoutView",
            "align_content": null,
            "align_items": null,
            "align_self": null,
            "border": null,
            "bottom": null,
            "display": null,
            "flex": null,
            "flex_flow": null,
            "grid_area": null,
            "grid_auto_columns": null,
            "grid_auto_flow": null,
            "grid_auto_rows": null,
            "grid_column": null,
            "grid_gap": null,
            "grid_row": null,
            "grid_template_areas": null,
            "grid_template_columns": null,
            "grid_template_rows": null,
            "height": null,
            "justify_content": null,
            "justify_items": null,
            "left": null,
            "margin": null,
            "max_height": null,
            "max_width": null,
            "min_height": null,
            "min_width": null,
            "object_fit": null,
            "object_position": null,
            "order": null,
            "overflow": null,
            "overflow_x": null,
            "overflow_y": null,
            "padding": null,
            "right": null,
            "top": null,
            "visibility": null,
            "width": null
          }
        },
        "7b886e9df7f147c1b15a65aa1873e283": {
          "model_module": "@jupyter-widgets/base",
          "model_name": "LayoutModel",
          "model_module_version": "1.2.0",
          "state": {
            "_model_module": "@jupyter-widgets/base",
            "_model_module_version": "1.2.0",
            "_model_name": "LayoutModel",
            "_view_count": null,
            "_view_module": "@jupyter-widgets/base",
            "_view_module_version": "1.2.0",
            "_view_name": "LayoutView",
            "align_content": null,
            "align_items": null,
            "align_self": null,
            "border": null,
            "bottom": null,
            "display": null,
            "flex": null,
            "flex_flow": null,
            "grid_area": null,
            "grid_auto_columns": null,
            "grid_auto_flow": null,
            "grid_auto_rows": null,
            "grid_column": null,
            "grid_gap": null,
            "grid_row": null,
            "grid_template_areas": null,
            "grid_template_columns": null,
            "grid_template_rows": null,
            "height": null,
            "justify_content": null,
            "justify_items": null,
            "left": null,
            "margin": null,
            "max_height": null,
            "max_width": null,
            "min_height": null,
            "min_width": null,
            "object_fit": null,
            "object_position": null,
            "order": null,
            "overflow": null,
            "overflow_x": null,
            "overflow_y": null,
            "padding": null,
            "right": null,
            "top": null,
            "visibility": null,
            "width": null
          }
        },
        "386d1409ccdb4a349a671fa6401ed0e1": {
          "model_module": "@jupyter-widgets/controls",
          "model_name": "DescriptionStyleModel",
          "model_module_version": "1.5.0",
          "state": {
            "_model_module": "@jupyter-widgets/controls",
            "_model_module_version": "1.5.0",
            "_model_name": "DescriptionStyleModel",
            "_view_count": null,
            "_view_module": "@jupyter-widgets/base",
            "_view_module_version": "1.2.0",
            "_view_name": "StyleView",
            "description_width": ""
          }
        },
        "c9a8408321f54ee38eacabb03cf73c0a": {
          "model_module": "@jupyter-widgets/base",
          "model_name": "LayoutModel",
          "model_module_version": "1.2.0",
          "state": {
            "_model_module": "@jupyter-widgets/base",
            "_model_module_version": "1.2.0",
            "_model_name": "LayoutModel",
            "_view_count": null,
            "_view_module": "@jupyter-widgets/base",
            "_view_module_version": "1.2.0",
            "_view_name": "LayoutView",
            "align_content": null,
            "align_items": null,
            "align_self": null,
            "border": null,
            "bottom": null,
            "display": null,
            "flex": null,
            "flex_flow": null,
            "grid_area": null,
            "grid_auto_columns": null,
            "grid_auto_flow": null,
            "grid_auto_rows": null,
            "grid_column": null,
            "grid_gap": null,
            "grid_row": null,
            "grid_template_areas": null,
            "grid_template_columns": null,
            "grid_template_rows": null,
            "height": null,
            "justify_content": null,
            "justify_items": null,
            "left": null,
            "margin": null,
            "max_height": null,
            "max_width": null,
            "min_height": null,
            "min_width": null,
            "object_fit": null,
            "object_position": null,
            "order": null,
            "overflow": null,
            "overflow_x": null,
            "overflow_y": null,
            "padding": null,
            "right": null,
            "top": null,
            "visibility": null,
            "width": null
          }
        },
        "1a04bfe5b23142ea8183fa68c408991a": {
          "model_module": "@jupyter-widgets/controls",
          "model_name": "ProgressStyleModel",
          "model_module_version": "1.5.0",
          "state": {
            "_model_module": "@jupyter-widgets/controls",
            "_model_module_version": "1.5.0",
            "_model_name": "ProgressStyleModel",
            "_view_count": null,
            "_view_module": "@jupyter-widgets/base",
            "_view_module_version": "1.2.0",
            "_view_name": "StyleView",
            "bar_color": null,
            "description_width": ""
          }
        },
        "511bd06161f042a7ba14800c1f20d028": {
          "model_module": "@jupyter-widgets/base",
          "model_name": "LayoutModel",
          "model_module_version": "1.2.0",
          "state": {
            "_model_module": "@jupyter-widgets/base",
            "_model_module_version": "1.2.0",
            "_model_name": "LayoutModel",
            "_view_count": null,
            "_view_module": "@jupyter-widgets/base",
            "_view_module_version": "1.2.0",
            "_view_name": "LayoutView",
            "align_content": null,
            "align_items": null,
            "align_self": null,
            "border": null,
            "bottom": null,
            "display": null,
            "flex": null,
            "flex_flow": null,
            "grid_area": null,
            "grid_auto_columns": null,
            "grid_auto_flow": null,
            "grid_auto_rows": null,
            "grid_column": null,
            "grid_gap": null,
            "grid_row": null,
            "grid_template_areas": null,
            "grid_template_columns": null,
            "grid_template_rows": null,
            "height": null,
            "justify_content": null,
            "justify_items": null,
            "left": null,
            "margin": null,
            "max_height": null,
            "max_width": null,
            "min_height": null,
            "min_width": null,
            "object_fit": null,
            "object_position": null,
            "order": null,
            "overflow": null,
            "overflow_x": null,
            "overflow_y": null,
            "padding": null,
            "right": null,
            "top": null,
            "visibility": null,
            "width": null
          }
        },
        "f66fb209ca13472cb55c12650b846ac3": {
          "model_module": "@jupyter-widgets/controls",
          "model_name": "DescriptionStyleModel",
          "model_module_version": "1.5.0",
          "state": {
            "_model_module": "@jupyter-widgets/controls",
            "_model_module_version": "1.5.0",
            "_model_name": "DescriptionStyleModel",
            "_view_count": null,
            "_view_module": "@jupyter-widgets/base",
            "_view_module_version": "1.2.0",
            "_view_name": "StyleView",
            "description_width": ""
          }
        },
        "981fee104729400485ebf46837e30e3f": {
          "model_module": "@jupyter-widgets/controls",
          "model_name": "HBoxModel",
          "model_module_version": "1.5.0",
          "state": {
            "_dom_classes": [],
            "_model_module": "@jupyter-widgets/controls",
            "_model_module_version": "1.5.0",
            "_model_name": "HBoxModel",
            "_view_count": null,
            "_view_module": "@jupyter-widgets/controls",
            "_view_module_version": "1.5.0",
            "_view_name": "HBoxView",
            "box_style": "",
            "children": [
              "IPY_MODEL_f1d890d3209649ac9706fcde0d7f716b",
              "IPY_MODEL_db3cff0d577544c29c220fe5212cb080",
              "IPY_MODEL_0302f7961deb4264b6c0e9009d1e77dd"
            ],
            "layout": "IPY_MODEL_d167759db5384b8088f627f0543555a4"
          }
        },
        "f1d890d3209649ac9706fcde0d7f716b": {
          "model_module": "@jupyter-widgets/controls",
          "model_name": "HTMLModel",
          "model_module_version": "1.5.0",
          "state": {
            "_dom_classes": [],
            "_model_module": "@jupyter-widgets/controls",
            "_model_module_version": "1.5.0",
            "_model_name": "HTMLModel",
            "_view_count": null,
            "_view_module": "@jupyter-widgets/controls",
            "_view_module_version": "1.5.0",
            "_view_name": "HTMLView",
            "description": "",
            "description_tooltip": null,
            "layout": "IPY_MODEL_9018e8a7540c4b3e83af5e361f520838",
            "placeholder": "​",
            "style": "IPY_MODEL_b1f127e2c372481fb8d29e9ff9f37879",
            "value": "tokenizer_config.json: 100%"
          }
        },
        "db3cff0d577544c29c220fe5212cb080": {
          "model_module": "@jupyter-widgets/controls",
          "model_name": "FloatProgressModel",
          "model_module_version": "1.5.0",
          "state": {
            "_dom_classes": [],
            "_model_module": "@jupyter-widgets/controls",
            "_model_module_version": "1.5.0",
            "_model_name": "FloatProgressModel",
            "_view_count": null,
            "_view_module": "@jupyter-widgets/controls",
            "_view_module_version": "1.5.0",
            "_view_name": "ProgressView",
            "bar_style": "success",
            "description": "",
            "description_tooltip": null,
            "layout": "IPY_MODEL_eae253fda8724df6a25edc86e149d508",
            "max": 48,
            "min": 0,
            "orientation": "horizontal",
            "style": "IPY_MODEL_b1f5bda9f1df4b7da1d8e7fdbd05792d",
            "value": 48
          }
        },
        "0302f7961deb4264b6c0e9009d1e77dd": {
          "model_module": "@jupyter-widgets/controls",
          "model_name": "HTMLModel",
          "model_module_version": "1.5.0",
          "state": {
            "_dom_classes": [],
            "_model_module": "@jupyter-widgets/controls",
            "_model_module_version": "1.5.0",
            "_model_name": "HTMLModel",
            "_view_count": null,
            "_view_module": "@jupyter-widgets/controls",
            "_view_module_version": "1.5.0",
            "_view_name": "HTMLView",
            "description": "",
            "description_tooltip": null,
            "layout": "IPY_MODEL_11e4ae416f6d446191c4c946570f190d",
            "placeholder": "​",
            "style": "IPY_MODEL_11dff2b41e7842548541bb58cb78e19c",
            "value": " 48.0/48.0 [00:00&lt;00:00, 2.44kB/s]"
          }
        },
        "d167759db5384b8088f627f0543555a4": {
          "model_module": "@jupyter-widgets/base",
          "model_name": "LayoutModel",
          "model_module_version": "1.2.0",
          "state": {
            "_model_module": "@jupyter-widgets/base",
            "_model_module_version": "1.2.0",
            "_model_name": "LayoutModel",
            "_view_count": null,
            "_view_module": "@jupyter-widgets/base",
            "_view_module_version": "1.2.0",
            "_view_name": "LayoutView",
            "align_content": null,
            "align_items": null,
            "align_self": null,
            "border": null,
            "bottom": null,
            "display": null,
            "flex": null,
            "flex_flow": null,
            "grid_area": null,
            "grid_auto_columns": null,
            "grid_auto_flow": null,
            "grid_auto_rows": null,
            "grid_column": null,
            "grid_gap": null,
            "grid_row": null,
            "grid_template_areas": null,
            "grid_template_columns": null,
            "grid_template_rows": null,
            "height": null,
            "justify_content": null,
            "justify_items": null,
            "left": null,
            "margin": null,
            "max_height": null,
            "max_width": null,
            "min_height": null,
            "min_width": null,
            "object_fit": null,
            "object_position": null,
            "order": null,
            "overflow": null,
            "overflow_x": null,
            "overflow_y": null,
            "padding": null,
            "right": null,
            "top": null,
            "visibility": null,
            "width": null
          }
        },
        "9018e8a7540c4b3e83af5e361f520838": {
          "model_module": "@jupyter-widgets/base",
          "model_name": "LayoutModel",
          "model_module_version": "1.2.0",
          "state": {
            "_model_module": "@jupyter-widgets/base",
            "_model_module_version": "1.2.0",
            "_model_name": "LayoutModel",
            "_view_count": null,
            "_view_module": "@jupyter-widgets/base",
            "_view_module_version": "1.2.0",
            "_view_name": "LayoutView",
            "align_content": null,
            "align_items": null,
            "align_self": null,
            "border": null,
            "bottom": null,
            "display": null,
            "flex": null,
            "flex_flow": null,
            "grid_area": null,
            "grid_auto_columns": null,
            "grid_auto_flow": null,
            "grid_auto_rows": null,
            "grid_column": null,
            "grid_gap": null,
            "grid_row": null,
            "grid_template_areas": null,
            "grid_template_columns": null,
            "grid_template_rows": null,
            "height": null,
            "justify_content": null,
            "justify_items": null,
            "left": null,
            "margin": null,
            "max_height": null,
            "max_width": null,
            "min_height": null,
            "min_width": null,
            "object_fit": null,
            "object_position": null,
            "order": null,
            "overflow": null,
            "overflow_x": null,
            "overflow_y": null,
            "padding": null,
            "right": null,
            "top": null,
            "visibility": null,
            "width": null
          }
        },
        "b1f127e2c372481fb8d29e9ff9f37879": {
          "model_module": "@jupyter-widgets/controls",
          "model_name": "DescriptionStyleModel",
          "model_module_version": "1.5.0",
          "state": {
            "_model_module": "@jupyter-widgets/controls",
            "_model_module_version": "1.5.0",
            "_model_name": "DescriptionStyleModel",
            "_view_count": null,
            "_view_module": "@jupyter-widgets/base",
            "_view_module_version": "1.2.0",
            "_view_name": "StyleView",
            "description_width": ""
          }
        },
        "eae253fda8724df6a25edc86e149d508": {
          "model_module": "@jupyter-widgets/base",
          "model_name": "LayoutModel",
          "model_module_version": "1.2.0",
          "state": {
            "_model_module": "@jupyter-widgets/base",
            "_model_module_version": "1.2.0",
            "_model_name": "LayoutModel",
            "_view_count": null,
            "_view_module": "@jupyter-widgets/base",
            "_view_module_version": "1.2.0",
            "_view_name": "LayoutView",
            "align_content": null,
            "align_items": null,
            "align_self": null,
            "border": null,
            "bottom": null,
            "display": null,
            "flex": null,
            "flex_flow": null,
            "grid_area": null,
            "grid_auto_columns": null,
            "grid_auto_flow": null,
            "grid_auto_rows": null,
            "grid_column": null,
            "grid_gap": null,
            "grid_row": null,
            "grid_template_areas": null,
            "grid_template_columns": null,
            "grid_template_rows": null,
            "height": null,
            "justify_content": null,
            "justify_items": null,
            "left": null,
            "margin": null,
            "max_height": null,
            "max_width": null,
            "min_height": null,
            "min_width": null,
            "object_fit": null,
            "object_position": null,
            "order": null,
            "overflow": null,
            "overflow_x": null,
            "overflow_y": null,
            "padding": null,
            "right": null,
            "top": null,
            "visibility": null,
            "width": null
          }
        },
        "b1f5bda9f1df4b7da1d8e7fdbd05792d": {
          "model_module": "@jupyter-widgets/controls",
          "model_name": "ProgressStyleModel",
          "model_module_version": "1.5.0",
          "state": {
            "_model_module": "@jupyter-widgets/controls",
            "_model_module_version": "1.5.0",
            "_model_name": "ProgressStyleModel",
            "_view_count": null,
            "_view_module": "@jupyter-widgets/base",
            "_view_module_version": "1.2.0",
            "_view_name": "StyleView",
            "bar_color": null,
            "description_width": ""
          }
        },
        "11e4ae416f6d446191c4c946570f190d": {
          "model_module": "@jupyter-widgets/base",
          "model_name": "LayoutModel",
          "model_module_version": "1.2.0",
          "state": {
            "_model_module": "@jupyter-widgets/base",
            "_model_module_version": "1.2.0",
            "_model_name": "LayoutModel",
            "_view_count": null,
            "_view_module": "@jupyter-widgets/base",
            "_view_module_version": "1.2.0",
            "_view_name": "LayoutView",
            "align_content": null,
            "align_items": null,
            "align_self": null,
            "border": null,
            "bottom": null,
            "display": null,
            "flex": null,
            "flex_flow": null,
            "grid_area": null,
            "grid_auto_columns": null,
            "grid_auto_flow": null,
            "grid_auto_rows": null,
            "grid_column": null,
            "grid_gap": null,
            "grid_row": null,
            "grid_template_areas": null,
            "grid_template_columns": null,
            "grid_template_rows": null,
            "height": null,
            "justify_content": null,
            "justify_items": null,
            "left": null,
            "margin": null,
            "max_height": null,
            "max_width": null,
            "min_height": null,
            "min_width": null,
            "object_fit": null,
            "object_position": null,
            "order": null,
            "overflow": null,
            "overflow_x": null,
            "overflow_y": null,
            "padding": null,
            "right": null,
            "top": null,
            "visibility": null,
            "width": null
          }
        },
        "11dff2b41e7842548541bb58cb78e19c": {
          "model_module": "@jupyter-widgets/controls",
          "model_name": "DescriptionStyleModel",
          "model_module_version": "1.5.0",
          "state": {
            "_model_module": "@jupyter-widgets/controls",
            "_model_module_version": "1.5.0",
            "_model_name": "DescriptionStyleModel",
            "_view_count": null,
            "_view_module": "@jupyter-widgets/base",
            "_view_module_version": "1.2.0",
            "_view_name": "StyleView",
            "description_width": ""
          }
        },
        "3e194c72546d4207814e67675f035fb7": {
          "model_module": "@jupyter-widgets/controls",
          "model_name": "HBoxModel",
          "model_module_version": "1.5.0",
          "state": {
            "_dom_classes": [],
            "_model_module": "@jupyter-widgets/controls",
            "_model_module_version": "1.5.0",
            "_model_name": "HBoxModel",
            "_view_count": null,
            "_view_module": "@jupyter-widgets/controls",
            "_view_module_version": "1.5.0",
            "_view_name": "HBoxView",
            "box_style": "",
            "children": [
              "IPY_MODEL_0e4b74c19e944c77b4a673d33c02797d",
              "IPY_MODEL_5acc9d9a30784092bc57fca81ba9ea06",
              "IPY_MODEL_4a88ba4fdb05480fba2972ee19366e62"
            ],
            "layout": "IPY_MODEL_c6d2674a4dba4327a1dcc976b4b9cd07"
          }
        },
        "0e4b74c19e944c77b4a673d33c02797d": {
          "model_module": "@jupyter-widgets/controls",
          "model_name": "HTMLModel",
          "model_module_version": "1.5.0",
          "state": {
            "_dom_classes": [],
            "_model_module": "@jupyter-widgets/controls",
            "_model_module_version": "1.5.0",
            "_model_name": "HTMLModel",
            "_view_count": null,
            "_view_module": "@jupyter-widgets/controls",
            "_view_module_version": "1.5.0",
            "_view_name": "HTMLView",
            "description": "",
            "description_tooltip": null,
            "layout": "IPY_MODEL_67dcadd852f84115b9e5719009443bb4",
            "placeholder": "​",
            "style": "IPY_MODEL_e29d8d8970cf4814bf8fb800e0d61497",
            "value": "vocab.txt: 100%"
          }
        },
        "5acc9d9a30784092bc57fca81ba9ea06": {
          "model_module": "@jupyter-widgets/controls",
          "model_name": "FloatProgressModel",
          "model_module_version": "1.5.0",
          "state": {
            "_dom_classes": [],
            "_model_module": "@jupyter-widgets/controls",
            "_model_module_version": "1.5.0",
            "_model_name": "FloatProgressModel",
            "_view_count": null,
            "_view_module": "@jupyter-widgets/controls",
            "_view_module_version": "1.5.0",
            "_view_name": "ProgressView",
            "bar_style": "success",
            "description": "",
            "description_tooltip": null,
            "layout": "IPY_MODEL_3bfd1389dff542c09d9974c0f0b31965",
            "max": 231508,
            "min": 0,
            "orientation": "horizontal",
            "style": "IPY_MODEL_841face34bb7456a91c17c4e31c82757",
            "value": 231508
          }
        },
        "4a88ba4fdb05480fba2972ee19366e62": {
          "model_module": "@jupyter-widgets/controls",
          "model_name": "HTMLModel",
          "model_module_version": "1.5.0",
          "state": {
            "_dom_classes": [],
            "_model_module": "@jupyter-widgets/controls",
            "_model_module_version": "1.5.0",
            "_model_name": "HTMLModel",
            "_view_count": null,
            "_view_module": "@jupyter-widgets/controls",
            "_view_module_version": "1.5.0",
            "_view_name": "HTMLView",
            "description": "",
            "description_tooltip": null,
            "layout": "IPY_MODEL_cd84e0b49bda4e83b9b099206a464f28",
            "placeholder": "​",
            "style": "IPY_MODEL_9c98a14541b44087a6f51240b88c8cd2",
            "value": " 232k/232k [00:00&lt;00:00, 3.10MB/s]"
          }
        },
        "c6d2674a4dba4327a1dcc976b4b9cd07": {
          "model_module": "@jupyter-widgets/base",
          "model_name": "LayoutModel",
          "model_module_version": "1.2.0",
          "state": {
            "_model_module": "@jupyter-widgets/base",
            "_model_module_version": "1.2.0",
            "_model_name": "LayoutModel",
            "_view_count": null,
            "_view_module": "@jupyter-widgets/base",
            "_view_module_version": "1.2.0",
            "_view_name": "LayoutView",
            "align_content": null,
            "align_items": null,
            "align_self": null,
            "border": null,
            "bottom": null,
            "display": null,
            "flex": null,
            "flex_flow": null,
            "grid_area": null,
            "grid_auto_columns": null,
            "grid_auto_flow": null,
            "grid_auto_rows": null,
            "grid_column": null,
            "grid_gap": null,
            "grid_row": null,
            "grid_template_areas": null,
            "grid_template_columns": null,
            "grid_template_rows": null,
            "height": null,
            "justify_content": null,
            "justify_items": null,
            "left": null,
            "margin": null,
            "max_height": null,
            "max_width": null,
            "min_height": null,
            "min_width": null,
            "object_fit": null,
            "object_position": null,
            "order": null,
            "overflow": null,
            "overflow_x": null,
            "overflow_y": null,
            "padding": null,
            "right": null,
            "top": null,
            "visibility": null,
            "width": null
          }
        },
        "67dcadd852f84115b9e5719009443bb4": {
          "model_module": "@jupyter-widgets/base",
          "model_name": "LayoutModel",
          "model_module_version": "1.2.0",
          "state": {
            "_model_module": "@jupyter-widgets/base",
            "_model_module_version": "1.2.0",
            "_model_name": "LayoutModel",
            "_view_count": null,
            "_view_module": "@jupyter-widgets/base",
            "_view_module_version": "1.2.0",
            "_view_name": "LayoutView",
            "align_content": null,
            "align_items": null,
            "align_self": null,
            "border": null,
            "bottom": null,
            "display": null,
            "flex": null,
            "flex_flow": null,
            "grid_area": null,
            "grid_auto_columns": null,
            "grid_auto_flow": null,
            "grid_auto_rows": null,
            "grid_column": null,
            "grid_gap": null,
            "grid_row": null,
            "grid_template_areas": null,
            "grid_template_columns": null,
            "grid_template_rows": null,
            "height": null,
            "justify_content": null,
            "justify_items": null,
            "left": null,
            "margin": null,
            "max_height": null,
            "max_width": null,
            "min_height": null,
            "min_width": null,
            "object_fit": null,
            "object_position": null,
            "order": null,
            "overflow": null,
            "overflow_x": null,
            "overflow_y": null,
            "padding": null,
            "right": null,
            "top": null,
            "visibility": null,
            "width": null
          }
        },
        "e29d8d8970cf4814bf8fb800e0d61497": {
          "model_module": "@jupyter-widgets/controls",
          "model_name": "DescriptionStyleModel",
          "model_module_version": "1.5.0",
          "state": {
            "_model_module": "@jupyter-widgets/controls",
            "_model_module_version": "1.5.0",
            "_model_name": "DescriptionStyleModel",
            "_view_count": null,
            "_view_module": "@jupyter-widgets/base",
            "_view_module_version": "1.2.0",
            "_view_name": "StyleView",
            "description_width": ""
          }
        },
        "3bfd1389dff542c09d9974c0f0b31965": {
          "model_module": "@jupyter-widgets/base",
          "model_name": "LayoutModel",
          "model_module_version": "1.2.0",
          "state": {
            "_model_module": "@jupyter-widgets/base",
            "_model_module_version": "1.2.0",
            "_model_name": "LayoutModel",
            "_view_count": null,
            "_view_module": "@jupyter-widgets/base",
            "_view_module_version": "1.2.0",
            "_view_name": "LayoutView",
            "align_content": null,
            "align_items": null,
            "align_self": null,
            "border": null,
            "bottom": null,
            "display": null,
            "flex": null,
            "flex_flow": null,
            "grid_area": null,
            "grid_auto_columns": null,
            "grid_auto_flow": null,
            "grid_auto_rows": null,
            "grid_column": null,
            "grid_gap": null,
            "grid_row": null,
            "grid_template_areas": null,
            "grid_template_columns": null,
            "grid_template_rows": null,
            "height": null,
            "justify_content": null,
            "justify_items": null,
            "left": null,
            "margin": null,
            "max_height": null,
            "max_width": null,
            "min_height": null,
            "min_width": null,
            "object_fit": null,
            "object_position": null,
            "order": null,
            "overflow": null,
            "overflow_x": null,
            "overflow_y": null,
            "padding": null,
            "right": null,
            "top": null,
            "visibility": null,
            "width": null
          }
        },
        "841face34bb7456a91c17c4e31c82757": {
          "model_module": "@jupyter-widgets/controls",
          "model_name": "ProgressStyleModel",
          "model_module_version": "1.5.0",
          "state": {
            "_model_module": "@jupyter-widgets/controls",
            "_model_module_version": "1.5.0",
            "_model_name": "ProgressStyleModel",
            "_view_count": null,
            "_view_module": "@jupyter-widgets/base",
            "_view_module_version": "1.2.0",
            "_view_name": "StyleView",
            "bar_color": null,
            "description_width": ""
          }
        },
        "cd84e0b49bda4e83b9b099206a464f28": {
          "model_module": "@jupyter-widgets/base",
          "model_name": "LayoutModel",
          "model_module_version": "1.2.0",
          "state": {
            "_model_module": "@jupyter-widgets/base",
            "_model_module_version": "1.2.0",
            "_model_name": "LayoutModel",
            "_view_count": null,
            "_view_module": "@jupyter-widgets/base",
            "_view_module_version": "1.2.0",
            "_view_name": "LayoutView",
            "align_content": null,
            "align_items": null,
            "align_self": null,
            "border": null,
            "bottom": null,
            "display": null,
            "flex": null,
            "flex_flow": null,
            "grid_area": null,
            "grid_auto_columns": null,
            "grid_auto_flow": null,
            "grid_auto_rows": null,
            "grid_column": null,
            "grid_gap": null,
            "grid_row": null,
            "grid_template_areas": null,
            "grid_template_columns": null,
            "grid_template_rows": null,
            "height": null,
            "justify_content": null,
            "justify_items": null,
            "left": null,
            "margin": null,
            "max_height": null,
            "max_width": null,
            "min_height": null,
            "min_width": null,
            "object_fit": null,
            "object_position": null,
            "order": null,
            "overflow": null,
            "overflow_x": null,
            "overflow_y": null,
            "padding": null,
            "right": null,
            "top": null,
            "visibility": null,
            "width": null
          }
        },
        "9c98a14541b44087a6f51240b88c8cd2": {
          "model_module": "@jupyter-widgets/controls",
          "model_name": "DescriptionStyleModel",
          "model_module_version": "1.5.0",
          "state": {
            "_model_module": "@jupyter-widgets/controls",
            "_model_module_version": "1.5.0",
            "_model_name": "DescriptionStyleModel",
            "_view_count": null,
            "_view_module": "@jupyter-widgets/base",
            "_view_module_version": "1.2.0",
            "_view_name": "StyleView",
            "description_width": ""
          }
        },
        "445be6dcd03e4bed938ec20aeb382446": {
          "model_module": "@jupyter-widgets/controls",
          "model_name": "HBoxModel",
          "model_module_version": "1.5.0",
          "state": {
            "_dom_classes": [],
            "_model_module": "@jupyter-widgets/controls",
            "_model_module_version": "1.5.0",
            "_model_name": "HBoxModel",
            "_view_count": null,
            "_view_module": "@jupyter-widgets/controls",
            "_view_module_version": "1.5.0",
            "_view_name": "HBoxView",
            "box_style": "",
            "children": [
              "IPY_MODEL_ee99649a4a934c149acd0fbc4df374b9",
              "IPY_MODEL_7822f1b702cf4ebe86284b9a301b9a1b",
              "IPY_MODEL_3ee75aff6ac34371aa310d4b2c36d65f"
            ],
            "layout": "IPY_MODEL_98a13ca2ad2146cbac7df08ce060a7bc"
          }
        },
        "ee99649a4a934c149acd0fbc4df374b9": {
          "model_module": "@jupyter-widgets/controls",
          "model_name": "HTMLModel",
          "model_module_version": "1.5.0",
          "state": {
            "_dom_classes": [],
            "_model_module": "@jupyter-widgets/controls",
            "_model_module_version": "1.5.0",
            "_model_name": "HTMLModel",
            "_view_count": null,
            "_view_module": "@jupyter-widgets/controls",
            "_view_module_version": "1.5.0",
            "_view_name": "HTMLView",
            "description": "",
            "description_tooltip": null,
            "layout": "IPY_MODEL_2e79ae24d5db4dccb3be250fe53619ea",
            "placeholder": "​",
            "style": "IPY_MODEL_efad393a1c024897a7f6a9335c1fb302",
            "value": "config.json: 100%"
          }
        },
        "7822f1b702cf4ebe86284b9a301b9a1b": {
          "model_module": "@jupyter-widgets/controls",
          "model_name": "FloatProgressModel",
          "model_module_version": "1.5.0",
          "state": {
            "_dom_classes": [],
            "_model_module": "@jupyter-widgets/controls",
            "_model_module_version": "1.5.0",
            "_model_name": "FloatProgressModel",
            "_view_count": null,
            "_view_module": "@jupyter-widgets/controls",
            "_view_module_version": "1.5.0",
            "_view_name": "ProgressView",
            "bar_style": "success",
            "description": "",
            "description_tooltip": null,
            "layout": "IPY_MODEL_dbf92c055e904b4fb7da0dd9dbe541e5",
            "max": 1802,
            "min": 0,
            "orientation": "horizontal",
            "style": "IPY_MODEL_a37ce634f28248468fc5d15f3b71bf2e",
            "value": 1802
          }
        },
        "3ee75aff6ac34371aa310d4b2c36d65f": {
          "model_module": "@jupyter-widgets/controls",
          "model_name": "HTMLModel",
          "model_module_version": "1.5.0",
          "state": {
            "_dom_classes": [],
            "_model_module": "@jupyter-widgets/controls",
            "_model_module_version": "1.5.0",
            "_model_name": "HTMLModel",
            "_view_count": null,
            "_view_module": "@jupyter-widgets/controls",
            "_view_module_version": "1.5.0",
            "_view_name": "HTMLView",
            "description": "",
            "description_tooltip": null,
            "layout": "IPY_MODEL_38fe17fb8375498f9b4f3874e715913f",
            "placeholder": "​",
            "style": "IPY_MODEL_877c286006f545249eee1fbf6b865dd3",
            "value": " 1.80k/1.80k [00:00&lt;00:00, 58.6kB/s]"
          }
        },
        "98a13ca2ad2146cbac7df08ce060a7bc": {
          "model_module": "@jupyter-widgets/base",
          "model_name": "LayoutModel",
          "model_module_version": "1.2.0",
          "state": {
            "_model_module": "@jupyter-widgets/base",
            "_model_module_version": "1.2.0",
            "_model_name": "LayoutModel",
            "_view_count": null,
            "_view_module": "@jupyter-widgets/base",
            "_view_module_version": "1.2.0",
            "_view_name": "LayoutView",
            "align_content": null,
            "align_items": null,
            "align_self": null,
            "border": null,
            "bottom": null,
            "display": null,
            "flex": null,
            "flex_flow": null,
            "grid_area": null,
            "grid_auto_columns": null,
            "grid_auto_flow": null,
            "grid_auto_rows": null,
            "grid_column": null,
            "grid_gap": null,
            "grid_row": null,
            "grid_template_areas": null,
            "grid_template_columns": null,
            "grid_template_rows": null,
            "height": null,
            "justify_content": null,
            "justify_items": null,
            "left": null,
            "margin": null,
            "max_height": null,
            "max_width": null,
            "min_height": null,
            "min_width": null,
            "object_fit": null,
            "object_position": null,
            "order": null,
            "overflow": null,
            "overflow_x": null,
            "overflow_y": null,
            "padding": null,
            "right": null,
            "top": null,
            "visibility": null,
            "width": null
          }
        },
        "2e79ae24d5db4dccb3be250fe53619ea": {
          "model_module": "@jupyter-widgets/base",
          "model_name": "LayoutModel",
          "model_module_version": "1.2.0",
          "state": {
            "_model_module": "@jupyter-widgets/base",
            "_model_module_version": "1.2.0",
            "_model_name": "LayoutModel",
            "_view_count": null,
            "_view_module": "@jupyter-widgets/base",
            "_view_module_version": "1.2.0",
            "_view_name": "LayoutView",
            "align_content": null,
            "align_items": null,
            "align_self": null,
            "border": null,
            "bottom": null,
            "display": null,
            "flex": null,
            "flex_flow": null,
            "grid_area": null,
            "grid_auto_columns": null,
            "grid_auto_flow": null,
            "grid_auto_rows": null,
            "grid_column": null,
            "grid_gap": null,
            "grid_row": null,
            "grid_template_areas": null,
            "grid_template_columns": null,
            "grid_template_rows": null,
            "height": null,
            "justify_content": null,
            "justify_items": null,
            "left": null,
            "margin": null,
            "max_height": null,
            "max_width": null,
            "min_height": null,
            "min_width": null,
            "object_fit": null,
            "object_position": null,
            "order": null,
            "overflow": null,
            "overflow_x": null,
            "overflow_y": null,
            "padding": null,
            "right": null,
            "top": null,
            "visibility": null,
            "width": null
          }
        },
        "efad393a1c024897a7f6a9335c1fb302": {
          "model_module": "@jupyter-widgets/controls",
          "model_name": "DescriptionStyleModel",
          "model_module_version": "1.5.0",
          "state": {
            "_model_module": "@jupyter-widgets/controls",
            "_model_module_version": "1.5.0",
            "_model_name": "DescriptionStyleModel",
            "_view_count": null,
            "_view_module": "@jupyter-widgets/base",
            "_view_module_version": "1.2.0",
            "_view_name": "StyleView",
            "description_width": ""
          }
        },
        "dbf92c055e904b4fb7da0dd9dbe541e5": {
          "model_module": "@jupyter-widgets/base",
          "model_name": "LayoutModel",
          "model_module_version": "1.2.0",
          "state": {
            "_model_module": "@jupyter-widgets/base",
            "_model_module_version": "1.2.0",
            "_model_name": "LayoutModel",
            "_view_count": null,
            "_view_module": "@jupyter-widgets/base",
            "_view_module_version": "1.2.0",
            "_view_name": "LayoutView",
            "align_content": null,
            "align_items": null,
            "align_self": null,
            "border": null,
            "bottom": null,
            "display": null,
            "flex": null,
            "flex_flow": null,
            "grid_area": null,
            "grid_auto_columns": null,
            "grid_auto_flow": null,
            "grid_auto_rows": null,
            "grid_column": null,
            "grid_gap": null,
            "grid_row": null,
            "grid_template_areas": null,
            "grid_template_columns": null,
            "grid_template_rows": null,
            "height": null,
            "justify_content": null,
            "justify_items": null,
            "left": null,
            "margin": null,
            "max_height": null,
            "max_width": null,
            "min_height": null,
            "min_width": null,
            "object_fit": null,
            "object_position": null,
            "order": null,
            "overflow": null,
            "overflow_x": null,
            "overflow_y": null,
            "padding": null,
            "right": null,
            "top": null,
            "visibility": null,
            "width": null
          }
        },
        "a37ce634f28248468fc5d15f3b71bf2e": {
          "model_module": "@jupyter-widgets/controls",
          "model_name": "ProgressStyleModel",
          "model_module_version": "1.5.0",
          "state": {
            "_model_module": "@jupyter-widgets/controls",
            "_model_module_version": "1.5.0",
            "_model_name": "ProgressStyleModel",
            "_view_count": null,
            "_view_module": "@jupyter-widgets/base",
            "_view_module_version": "1.2.0",
            "_view_name": "StyleView",
            "bar_color": null,
            "description_width": ""
          }
        },
        "38fe17fb8375498f9b4f3874e715913f": {
          "model_module": "@jupyter-widgets/base",
          "model_name": "LayoutModel",
          "model_module_version": "1.2.0",
          "state": {
            "_model_module": "@jupyter-widgets/base",
            "_model_module_version": "1.2.0",
            "_model_name": "LayoutModel",
            "_view_count": null,
            "_view_module": "@jupyter-widgets/base",
            "_view_module_version": "1.2.0",
            "_view_name": "LayoutView",
            "align_content": null,
            "align_items": null,
            "align_self": null,
            "border": null,
            "bottom": null,
            "display": null,
            "flex": null,
            "flex_flow": null,
            "grid_area": null,
            "grid_auto_columns": null,
            "grid_auto_flow": null,
            "grid_auto_rows": null,
            "grid_column": null,
            "grid_gap": null,
            "grid_row": null,
            "grid_template_areas": null,
            "grid_template_columns": null,
            "grid_template_rows": null,
            "height": null,
            "justify_content": null,
            "justify_items": null,
            "left": null,
            "margin": null,
            "max_height": null,
            "max_width": null,
            "min_height": null,
            "min_width": null,
            "object_fit": null,
            "object_position": null,
            "order": null,
            "overflow": null,
            "overflow_x": null,
            "overflow_y": null,
            "padding": null,
            "right": null,
            "top": null,
            "visibility": null,
            "width": null
          }
        },
        "877c286006f545249eee1fbf6b865dd3": {
          "model_module": "@jupyter-widgets/controls",
          "model_name": "DescriptionStyleModel",
          "model_module_version": "1.5.0",
          "state": {
            "_model_module": "@jupyter-widgets/controls",
            "_model_module_version": "1.5.0",
            "_model_name": "DescriptionStyleModel",
            "_view_count": null,
            "_view_module": "@jupyter-widgets/base",
            "_view_module_version": "1.2.0",
            "_view_name": "StyleView",
            "description_width": ""
          }
        },
        "41403e786ae54d04853eeecea097975e": {
          "model_module": "@jupyter-widgets/controls",
          "model_name": "HBoxModel",
          "model_module_version": "1.5.0",
          "state": {
            "_dom_classes": [],
            "_model_module": "@jupyter-widgets/controls",
            "_model_module_version": "1.5.0",
            "_model_name": "HBoxModel",
            "_view_count": null,
            "_view_module": "@jupyter-widgets/controls",
            "_view_module_version": "1.5.0",
            "_view_name": "HBoxView",
            "box_style": "",
            "children": [
              "IPY_MODEL_d034a107599642a7bde88467d5d429eb",
              "IPY_MODEL_b1a7256cbde54be29fe5f7de7e771f7f",
              "IPY_MODEL_d8118384636d4ae0aa6c0c3fb5d8e60f"
            ],
            "layout": "IPY_MODEL_dd788141ee4b4d19acb597c2d8c069b4"
          }
        },
        "d034a107599642a7bde88467d5d429eb": {
          "model_module": "@jupyter-widgets/controls",
          "model_name": "HTMLModel",
          "model_module_version": "1.5.0",
          "state": {
            "_dom_classes": [],
            "_model_module": "@jupyter-widgets/controls",
            "_model_module_version": "1.5.0",
            "_model_name": "HTMLModel",
            "_view_count": null,
            "_view_module": "@jupyter-widgets/controls",
            "_view_module_version": "1.5.0",
            "_view_name": "HTMLView",
            "description": "",
            "description_tooltip": null,
            "layout": "IPY_MODEL_98cf453a52f0418f9daf930f27fd2844",
            "placeholder": "​",
            "style": "IPY_MODEL_9eb4598fbb2841e7af21c94125c30ecb",
            "value": "pytorch_model.bin: 100%"
          }
        },
        "b1a7256cbde54be29fe5f7de7e771f7f": {
          "model_module": "@jupyter-widgets/controls",
          "model_name": "FloatProgressModel",
          "model_module_version": "1.5.0",
          "state": {
            "_dom_classes": [],
            "_model_module": "@jupyter-widgets/controls",
            "_model_module_version": "1.5.0",
            "_model_name": "FloatProgressModel",
            "_view_count": null,
            "_view_module": "@jupyter-widgets/controls",
            "_view_module_version": "1.5.0",
            "_view_name": "ProgressView",
            "bar_style": "success",
            "description": "",
            "description_tooltip": null,
            "layout": "IPY_MODEL_d339b20bfe8d4681b7f63886cae137e0",
            "max": 1222317369,
            "min": 0,
            "orientation": "horizontal",
            "style": "IPY_MODEL_7d1c915f69674ca2b80baccb4a2bda83",
            "value": 1222317369
          }
        },
        "d8118384636d4ae0aa6c0c3fb5d8e60f": {
          "model_module": "@jupyter-widgets/controls",
          "model_name": "HTMLModel",
          "model_module_version": "1.5.0",
          "state": {
            "_dom_classes": [],
            "_model_module": "@jupyter-widgets/controls",
            "_model_module_version": "1.5.0",
            "_model_name": "HTMLModel",
            "_view_count": null,
            "_view_module": "@jupyter-widgets/controls",
            "_view_module_version": "1.5.0",
            "_view_name": "HTMLView",
            "description": "",
            "description_tooltip": null,
            "layout": "IPY_MODEL_b5a640f0aab544f3b3972304970ac00c",
            "placeholder": "​",
            "style": "IPY_MODEL_12f2c094eb514906a94eefa48a2d843f",
            "value": " 1.22G/1.22G [00:10&lt;00:00, 35.8MB/s]"
          }
        },
        "dd788141ee4b4d19acb597c2d8c069b4": {
          "model_module": "@jupyter-widgets/base",
          "model_name": "LayoutModel",
          "model_module_version": "1.2.0",
          "state": {
            "_model_module": "@jupyter-widgets/base",
            "_model_module_version": "1.2.0",
            "_model_name": "LayoutModel",
            "_view_count": null,
            "_view_module": "@jupyter-widgets/base",
            "_view_module_version": "1.2.0",
            "_view_name": "LayoutView",
            "align_content": null,
            "align_items": null,
            "align_self": null,
            "border": null,
            "bottom": null,
            "display": null,
            "flex": null,
            "flex_flow": null,
            "grid_area": null,
            "grid_auto_columns": null,
            "grid_auto_flow": null,
            "grid_auto_rows": null,
            "grid_column": null,
            "grid_gap": null,
            "grid_row": null,
            "grid_template_areas": null,
            "grid_template_columns": null,
            "grid_template_rows": null,
            "height": null,
            "justify_content": null,
            "justify_items": null,
            "left": null,
            "margin": null,
            "max_height": null,
            "max_width": null,
            "min_height": null,
            "min_width": null,
            "object_fit": null,
            "object_position": null,
            "order": null,
            "overflow": null,
            "overflow_x": null,
            "overflow_y": null,
            "padding": null,
            "right": null,
            "top": null,
            "visibility": null,
            "width": null
          }
        },
        "98cf453a52f0418f9daf930f27fd2844": {
          "model_module": "@jupyter-widgets/base",
          "model_name": "LayoutModel",
          "model_module_version": "1.2.0",
          "state": {
            "_model_module": "@jupyter-widgets/base",
            "_model_module_version": "1.2.0",
            "_model_name": "LayoutModel",
            "_view_count": null,
            "_view_module": "@jupyter-widgets/base",
            "_view_module_version": "1.2.0",
            "_view_name": "LayoutView",
            "align_content": null,
            "align_items": null,
            "align_self": null,
            "border": null,
            "bottom": null,
            "display": null,
            "flex": null,
            "flex_flow": null,
            "grid_area": null,
            "grid_auto_columns": null,
            "grid_auto_flow": null,
            "grid_auto_rows": null,
            "grid_column": null,
            "grid_gap": null,
            "grid_row": null,
            "grid_template_areas": null,
            "grid_template_columns": null,
            "grid_template_rows": null,
            "height": null,
            "justify_content": null,
            "justify_items": null,
            "left": null,
            "margin": null,
            "max_height": null,
            "max_width": null,
            "min_height": null,
            "min_width": null,
            "object_fit": null,
            "object_position": null,
            "order": null,
            "overflow": null,
            "overflow_x": null,
            "overflow_y": null,
            "padding": null,
            "right": null,
            "top": null,
            "visibility": null,
            "width": null
          }
        },
        "9eb4598fbb2841e7af21c94125c30ecb": {
          "model_module": "@jupyter-widgets/controls",
          "model_name": "DescriptionStyleModel",
          "model_module_version": "1.5.0",
          "state": {
            "_model_module": "@jupyter-widgets/controls",
            "_model_module_version": "1.5.0",
            "_model_name": "DescriptionStyleModel",
            "_view_count": null,
            "_view_module": "@jupyter-widgets/base",
            "_view_module_version": "1.2.0",
            "_view_name": "StyleView",
            "description_width": ""
          }
        },
        "d339b20bfe8d4681b7f63886cae137e0": {
          "model_module": "@jupyter-widgets/base",
          "model_name": "LayoutModel",
          "model_module_version": "1.2.0",
          "state": {
            "_model_module": "@jupyter-widgets/base",
            "_model_module_version": "1.2.0",
            "_model_name": "LayoutModel",
            "_view_count": null,
            "_view_module": "@jupyter-widgets/base",
            "_view_module_version": "1.2.0",
            "_view_name": "LayoutView",
            "align_content": null,
            "align_items": null,
            "align_self": null,
            "border": null,
            "bottom": null,
            "display": null,
            "flex": null,
            "flex_flow": null,
            "grid_area": null,
            "grid_auto_columns": null,
            "grid_auto_flow": null,
            "grid_auto_rows": null,
            "grid_column": null,
            "grid_gap": null,
            "grid_row": null,
            "grid_template_areas": null,
            "grid_template_columns": null,
            "grid_template_rows": null,
            "height": null,
            "justify_content": null,
            "justify_items": null,
            "left": null,
            "margin": null,
            "max_height": null,
            "max_width": null,
            "min_height": null,
            "min_width": null,
            "object_fit": null,
            "object_position": null,
            "order": null,
            "overflow": null,
            "overflow_x": null,
            "overflow_y": null,
            "padding": null,
            "right": null,
            "top": null,
            "visibility": null,
            "width": null
          }
        },
        "7d1c915f69674ca2b80baccb4a2bda83": {
          "model_module": "@jupyter-widgets/controls",
          "model_name": "ProgressStyleModel",
          "model_module_version": "1.5.0",
          "state": {
            "_model_module": "@jupyter-widgets/controls",
            "_model_module_version": "1.5.0",
            "_model_name": "ProgressStyleModel",
            "_view_count": null,
            "_view_module": "@jupyter-widgets/base",
            "_view_module_version": "1.2.0",
            "_view_name": "StyleView",
            "bar_color": null,
            "description_width": ""
          }
        },
        "b5a640f0aab544f3b3972304970ac00c": {
          "model_module": "@jupyter-widgets/base",
          "model_name": "LayoutModel",
          "model_module_version": "1.2.0",
          "state": {
            "_model_module": "@jupyter-widgets/base",
            "_model_module_version": "1.2.0",
            "_model_name": "LayoutModel",
            "_view_count": null,
            "_view_module": "@jupyter-widgets/base",
            "_view_module_version": "1.2.0",
            "_view_name": "LayoutView",
            "align_content": null,
            "align_items": null,
            "align_self": null,
            "border": null,
            "bottom": null,
            "display": null,
            "flex": null,
            "flex_flow": null,
            "grid_area": null,
            "grid_auto_columns": null,
            "grid_auto_flow": null,
            "grid_auto_rows": null,
            "grid_column": null,
            "grid_gap": null,
            "grid_row": null,
            "grid_template_areas": null,
            "grid_template_columns": null,
            "grid_template_rows": null,
            "height": null,
            "justify_content": null,
            "justify_items": null,
            "left": null,
            "margin": null,
            "max_height": null,
            "max_width": null,
            "min_height": null,
            "min_width": null,
            "object_fit": null,
            "object_position": null,
            "order": null,
            "overflow": null,
            "overflow_x": null,
            "overflow_y": null,
            "padding": null,
            "right": null,
            "top": null,
            "visibility": null,
            "width": null
          }
        },
        "12f2c094eb514906a94eefa48a2d843f": {
          "model_module": "@jupyter-widgets/controls",
          "model_name": "DescriptionStyleModel",
          "model_module_version": "1.5.0",
          "state": {
            "_model_module": "@jupyter-widgets/controls",
            "_model_module_version": "1.5.0",
            "_model_name": "DescriptionStyleModel",
            "_view_count": null,
            "_view_module": "@jupyter-widgets/base",
            "_view_module_version": "1.2.0",
            "_view_name": "StyleView",
            "description_width": ""
          }
        },
        "793b68eba9e0448cb2041f956cbd3617": {
          "model_module": "@jupyter-widgets/controls",
          "model_name": "HBoxModel",
          "model_module_version": "1.5.0",
          "state": {
            "_dom_classes": [],
            "_model_module": "@jupyter-widgets/controls",
            "_model_module_version": "1.5.0",
            "_model_name": "HBoxModel",
            "_view_count": null,
            "_view_module": "@jupyter-widgets/controls",
            "_view_module_version": "1.5.0",
            "_view_name": "HBoxView",
            "box_style": "",
            "children": [
              "IPY_MODEL_f3e9f2beea0c40d78041d7529c8c6758",
              "IPY_MODEL_6cefca5461cb409088f315509712cec0",
              "IPY_MODEL_4be85e5943e341dda4d93b1b4f1347a0"
            ],
            "layout": "IPY_MODEL_d7e94a38898f4fbb874458c6d00961e8"
          }
        },
        "f3e9f2beea0c40d78041d7529c8c6758": {
          "model_module": "@jupyter-widgets/controls",
          "model_name": "HTMLModel",
          "model_module_version": "1.5.0",
          "state": {
            "_dom_classes": [],
            "_model_module": "@jupyter-widgets/controls",
            "_model_module_version": "1.5.0",
            "_model_name": "HTMLModel",
            "_view_count": null,
            "_view_module": "@jupyter-widgets/controls",
            "_view_module_version": "1.5.0",
            "_view_name": "HTMLView",
            "description": "",
            "description_tooltip": null,
            "layout": "IPY_MODEL_2330db267f5c43538b34421fad738482",
            "placeholder": "​",
            "style": "IPY_MODEL_1089da1bd82a4b6ca3e8e6b462b861bb",
            "value": "tokenizer_config.json: 100%"
          }
        },
        "6cefca5461cb409088f315509712cec0": {
          "model_module": "@jupyter-widgets/controls",
          "model_name": "FloatProgressModel",
          "model_module_version": "1.5.0",
          "state": {
            "_dom_classes": [],
            "_model_module": "@jupyter-widgets/controls",
            "_model_module_version": "1.5.0",
            "_model_name": "FloatProgressModel",
            "_view_count": null,
            "_view_module": "@jupyter-widgets/controls",
            "_view_module_version": "1.5.0",
            "_view_name": "ProgressView",
            "bar_style": "success",
            "description": "",
            "description_tooltip": null,
            "layout": "IPY_MODEL_2bee7574bd804daa86a04035729d676c",
            "max": 26,
            "min": 0,
            "orientation": "horizontal",
            "style": "IPY_MODEL_ec2c69d18753406589aaab5ebdad4617",
            "value": 26
          }
        },
        "4be85e5943e341dda4d93b1b4f1347a0": {
          "model_module": "@jupyter-widgets/controls",
          "model_name": "HTMLModel",
          "model_module_version": "1.5.0",
          "state": {
            "_dom_classes": [],
            "_model_module": "@jupyter-widgets/controls",
            "_model_module_version": "1.5.0",
            "_model_name": "HTMLModel",
            "_view_count": null,
            "_view_module": "@jupyter-widgets/controls",
            "_view_module_version": "1.5.0",
            "_view_name": "HTMLView",
            "description": "",
            "description_tooltip": null,
            "layout": "IPY_MODEL_a56a3e6a8e584df891f235404082694e",
            "placeholder": "​",
            "style": "IPY_MODEL_fa08746e01e3497d9ccc1ab45c166f7f",
            "value": " 26.0/26.0 [00:00&lt;00:00, 869B/s]"
          }
        },
        "d7e94a38898f4fbb874458c6d00961e8": {
          "model_module": "@jupyter-widgets/base",
          "model_name": "LayoutModel",
          "model_module_version": "1.2.0",
          "state": {
            "_model_module": "@jupyter-widgets/base",
            "_model_module_version": "1.2.0",
            "_model_name": "LayoutModel",
            "_view_count": null,
            "_view_module": "@jupyter-widgets/base",
            "_view_module_version": "1.2.0",
            "_view_name": "LayoutView",
            "align_content": null,
            "align_items": null,
            "align_self": null,
            "border": null,
            "bottom": null,
            "display": null,
            "flex": null,
            "flex_flow": null,
            "grid_area": null,
            "grid_auto_columns": null,
            "grid_auto_flow": null,
            "grid_auto_rows": null,
            "grid_column": null,
            "grid_gap": null,
            "grid_row": null,
            "grid_template_areas": null,
            "grid_template_columns": null,
            "grid_template_rows": null,
            "height": null,
            "justify_content": null,
            "justify_items": null,
            "left": null,
            "margin": null,
            "max_height": null,
            "max_width": null,
            "min_height": null,
            "min_width": null,
            "object_fit": null,
            "object_position": null,
            "order": null,
            "overflow": null,
            "overflow_x": null,
            "overflow_y": null,
            "padding": null,
            "right": null,
            "top": null,
            "visibility": null,
            "width": null
          }
        },
        "2330db267f5c43538b34421fad738482": {
          "model_module": "@jupyter-widgets/base",
          "model_name": "LayoutModel",
          "model_module_version": "1.2.0",
          "state": {
            "_model_module": "@jupyter-widgets/base",
            "_model_module_version": "1.2.0",
            "_model_name": "LayoutModel",
            "_view_count": null,
            "_view_module": "@jupyter-widgets/base",
            "_view_module_version": "1.2.0",
            "_view_name": "LayoutView",
            "align_content": null,
            "align_items": null,
            "align_self": null,
            "border": null,
            "bottom": null,
            "display": null,
            "flex": null,
            "flex_flow": null,
            "grid_area": null,
            "grid_auto_columns": null,
            "grid_auto_flow": null,
            "grid_auto_rows": null,
            "grid_column": null,
            "grid_gap": null,
            "grid_row": null,
            "grid_template_areas": null,
            "grid_template_columns": null,
            "grid_template_rows": null,
            "height": null,
            "justify_content": null,
            "justify_items": null,
            "left": null,
            "margin": null,
            "max_height": null,
            "max_width": null,
            "min_height": null,
            "min_width": null,
            "object_fit": null,
            "object_position": null,
            "order": null,
            "overflow": null,
            "overflow_x": null,
            "overflow_y": null,
            "padding": null,
            "right": null,
            "top": null,
            "visibility": null,
            "width": null
          }
        },
        "1089da1bd82a4b6ca3e8e6b462b861bb": {
          "model_module": "@jupyter-widgets/controls",
          "model_name": "DescriptionStyleModel",
          "model_module_version": "1.5.0",
          "state": {
            "_model_module": "@jupyter-widgets/controls",
            "_model_module_version": "1.5.0",
            "_model_name": "DescriptionStyleModel",
            "_view_count": null,
            "_view_module": "@jupyter-widgets/base",
            "_view_module_version": "1.2.0",
            "_view_name": "StyleView",
            "description_width": ""
          }
        },
        "2bee7574bd804daa86a04035729d676c": {
          "model_module": "@jupyter-widgets/base",
          "model_name": "LayoutModel",
          "model_module_version": "1.2.0",
          "state": {
            "_model_module": "@jupyter-widgets/base",
            "_model_module_version": "1.2.0",
            "_model_name": "LayoutModel",
            "_view_count": null,
            "_view_module": "@jupyter-widgets/base",
            "_view_module_version": "1.2.0",
            "_view_name": "LayoutView",
            "align_content": null,
            "align_items": null,
            "align_self": null,
            "border": null,
            "bottom": null,
            "display": null,
            "flex": null,
            "flex_flow": null,
            "grid_area": null,
            "grid_auto_columns": null,
            "grid_auto_flow": null,
            "grid_auto_rows": null,
            "grid_column": null,
            "grid_gap": null,
            "grid_row": null,
            "grid_template_areas": null,
            "grid_template_columns": null,
            "grid_template_rows": null,
            "height": null,
            "justify_content": null,
            "justify_items": null,
            "left": null,
            "margin": null,
            "max_height": null,
            "max_width": null,
            "min_height": null,
            "min_width": null,
            "object_fit": null,
            "object_position": null,
            "order": null,
            "overflow": null,
            "overflow_x": null,
            "overflow_y": null,
            "padding": null,
            "right": null,
            "top": null,
            "visibility": null,
            "width": null
          }
        },
        "ec2c69d18753406589aaab5ebdad4617": {
          "model_module": "@jupyter-widgets/controls",
          "model_name": "ProgressStyleModel",
          "model_module_version": "1.5.0",
          "state": {
            "_model_module": "@jupyter-widgets/controls",
            "_model_module_version": "1.5.0",
            "_model_name": "ProgressStyleModel",
            "_view_count": null,
            "_view_module": "@jupyter-widgets/base",
            "_view_module_version": "1.2.0",
            "_view_name": "StyleView",
            "bar_color": null,
            "description_width": ""
          }
        },
        "a56a3e6a8e584df891f235404082694e": {
          "model_module": "@jupyter-widgets/base",
          "model_name": "LayoutModel",
          "model_module_version": "1.2.0",
          "state": {
            "_model_module": "@jupyter-widgets/base",
            "_model_module_version": "1.2.0",
            "_model_name": "LayoutModel",
            "_view_count": null,
            "_view_module": "@jupyter-widgets/base",
            "_view_module_version": "1.2.0",
            "_view_name": "LayoutView",
            "align_content": null,
            "align_items": null,
            "align_self": null,
            "border": null,
            "bottom": null,
            "display": null,
            "flex": null,
            "flex_flow": null,
            "grid_area": null,
            "grid_auto_columns": null,
            "grid_auto_flow": null,
            "grid_auto_rows": null,
            "grid_column": null,
            "grid_gap": null,
            "grid_row": null,
            "grid_template_areas": null,
            "grid_template_columns": null,
            "grid_template_rows": null,
            "height": null,
            "justify_content": null,
            "justify_items": null,
            "left": null,
            "margin": null,
            "max_height": null,
            "max_width": null,
            "min_height": null,
            "min_width": null,
            "object_fit": null,
            "object_position": null,
            "order": null,
            "overflow": null,
            "overflow_x": null,
            "overflow_y": null,
            "padding": null,
            "right": null,
            "top": null,
            "visibility": null,
            "width": null
          }
        },
        "fa08746e01e3497d9ccc1ab45c166f7f": {
          "model_module": "@jupyter-widgets/controls",
          "model_name": "DescriptionStyleModel",
          "model_module_version": "1.5.0",
          "state": {
            "_model_module": "@jupyter-widgets/controls",
            "_model_module_version": "1.5.0",
            "_model_name": "DescriptionStyleModel",
            "_view_count": null,
            "_view_module": "@jupyter-widgets/base",
            "_view_module_version": "1.2.0",
            "_view_name": "StyleView",
            "description_width": ""
          }
        },
        "a576eefaecc54f99984cc85f88fd3eac": {
          "model_module": "@jupyter-widgets/controls",
          "model_name": "HBoxModel",
          "model_module_version": "1.5.0",
          "state": {
            "_dom_classes": [],
            "_model_module": "@jupyter-widgets/controls",
            "_model_module_version": "1.5.0",
            "_model_name": "HBoxModel",
            "_view_count": null,
            "_view_module": "@jupyter-widgets/controls",
            "_view_module_version": "1.5.0",
            "_view_name": "HBoxView",
            "box_style": "",
            "children": [
              "IPY_MODEL_e92982ab50ba4b10830838271653554a",
              "IPY_MODEL_736da16606d34bcc8040f57857435e28",
              "IPY_MODEL_d8f774c06ff7490da97bdf3327fe822c"
            ],
            "layout": "IPY_MODEL_1b9af24b1fe94770b7d2d0b10c52ee54"
          }
        },
        "e92982ab50ba4b10830838271653554a": {
          "model_module": "@jupyter-widgets/controls",
          "model_name": "HTMLModel",
          "model_module_version": "1.5.0",
          "state": {
            "_dom_classes": [],
            "_model_module": "@jupyter-widgets/controls",
            "_model_module_version": "1.5.0",
            "_model_name": "HTMLModel",
            "_view_count": null,
            "_view_module": "@jupyter-widgets/controls",
            "_view_module_version": "1.5.0",
            "_view_name": "HTMLView",
            "description": "",
            "description_tooltip": null,
            "layout": "IPY_MODEL_cf7f2d180d434ea6b98f575ac621edcb",
            "placeholder": "​",
            "style": "IPY_MODEL_90d0f7c8d487449fb0cb593c64b5eebc",
            "value": "vocab.json: 100%"
          }
        },
        "736da16606d34bcc8040f57857435e28": {
          "model_module": "@jupyter-widgets/controls",
          "model_name": "FloatProgressModel",
          "model_module_version": "1.5.0",
          "state": {
            "_dom_classes": [],
            "_model_module": "@jupyter-widgets/controls",
            "_model_module_version": "1.5.0",
            "_model_name": "FloatProgressModel",
            "_view_count": null,
            "_view_module": "@jupyter-widgets/controls",
            "_view_module_version": "1.5.0",
            "_view_name": "ProgressView",
            "bar_style": "success",
            "description": "",
            "description_tooltip": null,
            "layout": "IPY_MODEL_819ad90692fc42b2b3913b3d1cc52af3",
            "max": 898822,
            "min": 0,
            "orientation": "horizontal",
            "style": "IPY_MODEL_da1d3c2d0c534b878e0759c51a2b2014",
            "value": 898822
          }
        },
        "d8f774c06ff7490da97bdf3327fe822c": {
          "model_module": "@jupyter-widgets/controls",
          "model_name": "HTMLModel",
          "model_module_version": "1.5.0",
          "state": {
            "_dom_classes": [],
            "_model_module": "@jupyter-widgets/controls",
            "_model_module_version": "1.5.0",
            "_model_name": "HTMLModel",
            "_view_count": null,
            "_view_module": "@jupyter-widgets/controls",
            "_view_module_version": "1.5.0",
            "_view_name": "HTMLView",
            "description": "",
            "description_tooltip": null,
            "layout": "IPY_MODEL_986be78175394a1397d11be1fe06878d",
            "placeholder": "​",
            "style": "IPY_MODEL_8522dae52b6a4ce0892c992e9b4d159c",
            "value": " 899k/899k [00:00&lt;00:00, 9.79MB/s]"
          }
        },
        "1b9af24b1fe94770b7d2d0b10c52ee54": {
          "model_module": "@jupyter-widgets/base",
          "model_name": "LayoutModel",
          "model_module_version": "1.2.0",
          "state": {
            "_model_module": "@jupyter-widgets/base",
            "_model_module_version": "1.2.0",
            "_model_name": "LayoutModel",
            "_view_count": null,
            "_view_module": "@jupyter-widgets/base",
            "_view_module_version": "1.2.0",
            "_view_name": "LayoutView",
            "align_content": null,
            "align_items": null,
            "align_self": null,
            "border": null,
            "bottom": null,
            "display": null,
            "flex": null,
            "flex_flow": null,
            "grid_area": null,
            "grid_auto_columns": null,
            "grid_auto_flow": null,
            "grid_auto_rows": null,
            "grid_column": null,
            "grid_gap": null,
            "grid_row": null,
            "grid_template_areas": null,
            "grid_template_columns": null,
            "grid_template_rows": null,
            "height": null,
            "justify_content": null,
            "justify_items": null,
            "left": null,
            "margin": null,
            "max_height": null,
            "max_width": null,
            "min_height": null,
            "min_width": null,
            "object_fit": null,
            "object_position": null,
            "order": null,
            "overflow": null,
            "overflow_x": null,
            "overflow_y": null,
            "padding": null,
            "right": null,
            "top": null,
            "visibility": null,
            "width": null
          }
        },
        "cf7f2d180d434ea6b98f575ac621edcb": {
          "model_module": "@jupyter-widgets/base",
          "model_name": "LayoutModel",
          "model_module_version": "1.2.0",
          "state": {
            "_model_module": "@jupyter-widgets/base",
            "_model_module_version": "1.2.0",
            "_model_name": "LayoutModel",
            "_view_count": null,
            "_view_module": "@jupyter-widgets/base",
            "_view_module_version": "1.2.0",
            "_view_name": "LayoutView",
            "align_content": null,
            "align_items": null,
            "align_self": null,
            "border": null,
            "bottom": null,
            "display": null,
            "flex": null,
            "flex_flow": null,
            "grid_area": null,
            "grid_auto_columns": null,
            "grid_auto_flow": null,
            "grid_auto_rows": null,
            "grid_column": null,
            "grid_gap": null,
            "grid_row": null,
            "grid_template_areas": null,
            "grid_template_columns": null,
            "grid_template_rows": null,
            "height": null,
            "justify_content": null,
            "justify_items": null,
            "left": null,
            "margin": null,
            "max_height": null,
            "max_width": null,
            "min_height": null,
            "min_width": null,
            "object_fit": null,
            "object_position": null,
            "order": null,
            "overflow": null,
            "overflow_x": null,
            "overflow_y": null,
            "padding": null,
            "right": null,
            "top": null,
            "visibility": null,
            "width": null
          }
        },
        "90d0f7c8d487449fb0cb593c64b5eebc": {
          "model_module": "@jupyter-widgets/controls",
          "model_name": "DescriptionStyleModel",
          "model_module_version": "1.5.0",
          "state": {
            "_model_module": "@jupyter-widgets/controls",
            "_model_module_version": "1.5.0",
            "_model_name": "DescriptionStyleModel",
            "_view_count": null,
            "_view_module": "@jupyter-widgets/base",
            "_view_module_version": "1.2.0",
            "_view_name": "StyleView",
            "description_width": ""
          }
        },
        "819ad90692fc42b2b3913b3d1cc52af3": {
          "model_module": "@jupyter-widgets/base",
          "model_name": "LayoutModel",
          "model_module_version": "1.2.0",
          "state": {
            "_model_module": "@jupyter-widgets/base",
            "_model_module_version": "1.2.0",
            "_model_name": "LayoutModel",
            "_view_count": null,
            "_view_module": "@jupyter-widgets/base",
            "_view_module_version": "1.2.0",
            "_view_name": "LayoutView",
            "align_content": null,
            "align_items": null,
            "align_self": null,
            "border": null,
            "bottom": null,
            "display": null,
            "flex": null,
            "flex_flow": null,
            "grid_area": null,
            "grid_auto_columns": null,
            "grid_auto_flow": null,
            "grid_auto_rows": null,
            "grid_column": null,
            "grid_gap": null,
            "grid_row": null,
            "grid_template_areas": null,
            "grid_template_columns": null,
            "grid_template_rows": null,
            "height": null,
            "justify_content": null,
            "justify_items": null,
            "left": null,
            "margin": null,
            "max_height": null,
            "max_width": null,
            "min_height": null,
            "min_width": null,
            "object_fit": null,
            "object_position": null,
            "order": null,
            "overflow": null,
            "overflow_x": null,
            "overflow_y": null,
            "padding": null,
            "right": null,
            "top": null,
            "visibility": null,
            "width": null
          }
        },
        "da1d3c2d0c534b878e0759c51a2b2014": {
          "model_module": "@jupyter-widgets/controls",
          "model_name": "ProgressStyleModel",
          "model_module_version": "1.5.0",
          "state": {
            "_model_module": "@jupyter-widgets/controls",
            "_model_module_version": "1.5.0",
            "_model_name": "ProgressStyleModel",
            "_view_count": null,
            "_view_module": "@jupyter-widgets/base",
            "_view_module_version": "1.2.0",
            "_view_name": "StyleView",
            "bar_color": null,
            "description_width": ""
          }
        },
        "986be78175394a1397d11be1fe06878d": {
          "model_module": "@jupyter-widgets/base",
          "model_name": "LayoutModel",
          "model_module_version": "1.2.0",
          "state": {
            "_model_module": "@jupyter-widgets/base",
            "_model_module_version": "1.2.0",
            "_model_name": "LayoutModel",
            "_view_count": null,
            "_view_module": "@jupyter-widgets/base",
            "_view_module_version": "1.2.0",
            "_view_name": "LayoutView",
            "align_content": null,
            "align_items": null,
            "align_self": null,
            "border": null,
            "bottom": null,
            "display": null,
            "flex": null,
            "flex_flow": null,
            "grid_area": null,
            "grid_auto_columns": null,
            "grid_auto_flow": null,
            "grid_auto_rows": null,
            "grid_column": null,
            "grid_gap": null,
            "grid_row": null,
            "grid_template_areas": null,
            "grid_template_columns": null,
            "grid_template_rows": null,
            "height": null,
            "justify_content": null,
            "justify_items": null,
            "left": null,
            "margin": null,
            "max_height": null,
            "max_width": null,
            "min_height": null,
            "min_width": null,
            "object_fit": null,
            "object_position": null,
            "order": null,
            "overflow": null,
            "overflow_x": null,
            "overflow_y": null,
            "padding": null,
            "right": null,
            "top": null,
            "visibility": null,
            "width": null
          }
        },
        "8522dae52b6a4ce0892c992e9b4d159c": {
          "model_module": "@jupyter-widgets/controls",
          "model_name": "DescriptionStyleModel",
          "model_module_version": "1.5.0",
          "state": {
            "_model_module": "@jupyter-widgets/controls",
            "_model_module_version": "1.5.0",
            "_model_name": "DescriptionStyleModel",
            "_view_count": null,
            "_view_module": "@jupyter-widgets/base",
            "_view_module_version": "1.2.0",
            "_view_name": "StyleView",
            "description_width": ""
          }
        },
        "d6de780433f247b5bd9f346fbf1aed2c": {
          "model_module": "@jupyter-widgets/controls",
          "model_name": "HBoxModel",
          "model_module_version": "1.5.0",
          "state": {
            "_dom_classes": [],
            "_model_module": "@jupyter-widgets/controls",
            "_model_module_version": "1.5.0",
            "_model_name": "HBoxModel",
            "_view_count": null,
            "_view_module": "@jupyter-widgets/controls",
            "_view_module_version": "1.5.0",
            "_view_name": "HBoxView",
            "box_style": "",
            "children": [
              "IPY_MODEL_063d0eea458244df84f390b20dca4ace",
              "IPY_MODEL_1872cacce5e74d559f188241329125b6",
              "IPY_MODEL_3f58e0942af44a21ad7d0ca81b7edced"
            ],
            "layout": "IPY_MODEL_05c684b8bc6d45b6aade34ff03781980"
          }
        },
        "063d0eea458244df84f390b20dca4ace": {
          "model_module": "@jupyter-widgets/controls",
          "model_name": "HTMLModel",
          "model_module_version": "1.5.0",
          "state": {
            "_dom_classes": [],
            "_model_module": "@jupyter-widgets/controls",
            "_model_module_version": "1.5.0",
            "_model_name": "HTMLModel",
            "_view_count": null,
            "_view_module": "@jupyter-widgets/controls",
            "_view_module_version": "1.5.0",
            "_view_name": "HTMLView",
            "description": "",
            "description_tooltip": null,
            "layout": "IPY_MODEL_25ebe7cddfe54cd68c781f57fe9c6034",
            "placeholder": "​",
            "style": "IPY_MODEL_80d9017d95e045cb87f7b80ae8bfb461",
            "value": "merges.txt: 100%"
          }
        },
        "1872cacce5e74d559f188241329125b6": {
          "model_module": "@jupyter-widgets/controls",
          "model_name": "FloatProgressModel",
          "model_module_version": "1.5.0",
          "state": {
            "_dom_classes": [],
            "_model_module": "@jupyter-widgets/controls",
            "_model_module_version": "1.5.0",
            "_model_name": "FloatProgressModel",
            "_view_count": null,
            "_view_module": "@jupyter-widgets/controls",
            "_view_module_version": "1.5.0",
            "_view_name": "ProgressView",
            "bar_style": "success",
            "description": "",
            "description_tooltip": null,
            "layout": "IPY_MODEL_27893946b3e044bb823335467082a182",
            "max": 456318,
            "min": 0,
            "orientation": "horizontal",
            "style": "IPY_MODEL_fc9de44cc55a41db841b3e56e6749d72",
            "value": 456318
          }
        },
        "3f58e0942af44a21ad7d0ca81b7edced": {
          "model_module": "@jupyter-widgets/controls",
          "model_name": "HTMLModel",
          "model_module_version": "1.5.0",
          "state": {
            "_dom_classes": [],
            "_model_module": "@jupyter-widgets/controls",
            "_model_module_version": "1.5.0",
            "_model_name": "HTMLModel",
            "_view_count": null,
            "_view_module": "@jupyter-widgets/controls",
            "_view_module_version": "1.5.0",
            "_view_name": "HTMLView",
            "description": "",
            "description_tooltip": null,
            "layout": "IPY_MODEL_e3863ab92b0046c3be42b009dea55d32",
            "placeholder": "​",
            "style": "IPY_MODEL_3d54b70874cb425fa50f416db6322c9d",
            "value": " 456k/456k [00:00&lt;00:00, 6.69MB/s]"
          }
        },
        "05c684b8bc6d45b6aade34ff03781980": {
          "model_module": "@jupyter-widgets/base",
          "model_name": "LayoutModel",
          "model_module_version": "1.2.0",
          "state": {
            "_model_module": "@jupyter-widgets/base",
            "_model_module_version": "1.2.0",
            "_model_name": "LayoutModel",
            "_view_count": null,
            "_view_module": "@jupyter-widgets/base",
            "_view_module_version": "1.2.0",
            "_view_name": "LayoutView",
            "align_content": null,
            "align_items": null,
            "align_self": null,
            "border": null,
            "bottom": null,
            "display": null,
            "flex": null,
            "flex_flow": null,
            "grid_area": null,
            "grid_auto_columns": null,
            "grid_auto_flow": null,
            "grid_auto_rows": null,
            "grid_column": null,
            "grid_gap": null,
            "grid_row": null,
            "grid_template_areas": null,
            "grid_template_columns": null,
            "grid_template_rows": null,
            "height": null,
            "justify_content": null,
            "justify_items": null,
            "left": null,
            "margin": null,
            "max_height": null,
            "max_width": null,
            "min_height": null,
            "min_width": null,
            "object_fit": null,
            "object_position": null,
            "order": null,
            "overflow": null,
            "overflow_x": null,
            "overflow_y": null,
            "padding": null,
            "right": null,
            "top": null,
            "visibility": null,
            "width": null
          }
        },
        "25ebe7cddfe54cd68c781f57fe9c6034": {
          "model_module": "@jupyter-widgets/base",
          "model_name": "LayoutModel",
          "model_module_version": "1.2.0",
          "state": {
            "_model_module": "@jupyter-widgets/base",
            "_model_module_version": "1.2.0",
            "_model_name": "LayoutModel",
            "_view_count": null,
            "_view_module": "@jupyter-widgets/base",
            "_view_module_version": "1.2.0",
            "_view_name": "LayoutView",
            "align_content": null,
            "align_items": null,
            "align_self": null,
            "border": null,
            "bottom": null,
            "display": null,
            "flex": null,
            "flex_flow": null,
            "grid_area": null,
            "grid_auto_columns": null,
            "grid_auto_flow": null,
            "grid_auto_rows": null,
            "grid_column": null,
            "grid_gap": null,
            "grid_row": null,
            "grid_template_areas": null,
            "grid_template_columns": null,
            "grid_template_rows": null,
            "height": null,
            "justify_content": null,
            "justify_items": null,
            "left": null,
            "margin": null,
            "max_height": null,
            "max_width": null,
            "min_height": null,
            "min_width": null,
            "object_fit": null,
            "object_position": null,
            "order": null,
            "overflow": null,
            "overflow_x": null,
            "overflow_y": null,
            "padding": null,
            "right": null,
            "top": null,
            "visibility": null,
            "width": null
          }
        },
        "80d9017d95e045cb87f7b80ae8bfb461": {
          "model_module": "@jupyter-widgets/controls",
          "model_name": "DescriptionStyleModel",
          "model_module_version": "1.5.0",
          "state": {
            "_model_module": "@jupyter-widgets/controls",
            "_model_module_version": "1.5.0",
            "_model_name": "DescriptionStyleModel",
            "_view_count": null,
            "_view_module": "@jupyter-widgets/base",
            "_view_module_version": "1.2.0",
            "_view_name": "StyleView",
            "description_width": ""
          }
        },
        "27893946b3e044bb823335467082a182": {
          "model_module": "@jupyter-widgets/base",
          "model_name": "LayoutModel",
          "model_module_version": "1.2.0",
          "state": {
            "_model_module": "@jupyter-widgets/base",
            "_model_module_version": "1.2.0",
            "_model_name": "LayoutModel",
            "_view_count": null,
            "_view_module": "@jupyter-widgets/base",
            "_view_module_version": "1.2.0",
            "_view_name": "LayoutView",
            "align_content": null,
            "align_items": null,
            "align_self": null,
            "border": null,
            "bottom": null,
            "display": null,
            "flex": null,
            "flex_flow": null,
            "grid_area": null,
            "grid_auto_columns": null,
            "grid_auto_flow": null,
            "grid_auto_rows": null,
            "grid_column": null,
            "grid_gap": null,
            "grid_row": null,
            "grid_template_areas": null,
            "grid_template_columns": null,
            "grid_template_rows": null,
            "height": null,
            "justify_content": null,
            "justify_items": null,
            "left": null,
            "margin": null,
            "max_height": null,
            "max_width": null,
            "min_height": null,
            "min_width": null,
            "object_fit": null,
            "object_position": null,
            "order": null,
            "overflow": null,
            "overflow_x": null,
            "overflow_y": null,
            "padding": null,
            "right": null,
            "top": null,
            "visibility": null,
            "width": null
          }
        },
        "fc9de44cc55a41db841b3e56e6749d72": {
          "model_module": "@jupyter-widgets/controls",
          "model_name": "ProgressStyleModel",
          "model_module_version": "1.5.0",
          "state": {
            "_model_module": "@jupyter-widgets/controls",
            "_model_module_version": "1.5.0",
            "_model_name": "ProgressStyleModel",
            "_view_count": null,
            "_view_module": "@jupyter-widgets/base",
            "_view_module_version": "1.2.0",
            "_view_name": "StyleView",
            "bar_color": null,
            "description_width": ""
          }
        },
        "e3863ab92b0046c3be42b009dea55d32": {
          "model_module": "@jupyter-widgets/base",
          "model_name": "LayoutModel",
          "model_module_version": "1.2.0",
          "state": {
            "_model_module": "@jupyter-widgets/base",
            "_model_module_version": "1.2.0",
            "_model_name": "LayoutModel",
            "_view_count": null,
            "_view_module": "@jupyter-widgets/base",
            "_view_module_version": "1.2.0",
            "_view_name": "LayoutView",
            "align_content": null,
            "align_items": null,
            "align_self": null,
            "border": null,
            "bottom": null,
            "display": null,
            "flex": null,
            "flex_flow": null,
            "grid_area": null,
            "grid_auto_columns": null,
            "grid_auto_flow": null,
            "grid_auto_rows": null,
            "grid_column": null,
            "grid_gap": null,
            "grid_row": null,
            "grid_template_areas": null,
            "grid_template_columns": null,
            "grid_template_rows": null,
            "height": null,
            "justify_content": null,
            "justify_items": null,
            "left": null,
            "margin": null,
            "max_height": null,
            "max_width": null,
            "min_height": null,
            "min_width": null,
            "object_fit": null,
            "object_position": null,
            "order": null,
            "overflow": null,
            "overflow_x": null,
            "overflow_y": null,
            "padding": null,
            "right": null,
            "top": null,
            "visibility": null,
            "width": null
          }
        },
        "3d54b70874cb425fa50f416db6322c9d": {
          "model_module": "@jupyter-widgets/controls",
          "model_name": "DescriptionStyleModel",
          "model_module_version": "1.5.0",
          "state": {
            "_model_module": "@jupyter-widgets/controls",
            "_model_module_version": "1.5.0",
            "_model_name": "DescriptionStyleModel",
            "_view_count": null,
            "_view_module": "@jupyter-widgets/base",
            "_view_module_version": "1.2.0",
            "_view_name": "StyleView",
            "description_width": ""
          }
        }
      }
    }
  },
  "cells": [
    {
      "cell_type": "markdown",
      "source": [
        "# **Question 1: What is NLTK?**\n",
        "# Answer:\n",
        "# NLTK (Natural Language Toolkit) is a popular Python library used for working with human language data (text).\n",
        "# It provides tools for text processing, including tokenization, stemming, tagging, parsing, and more. NLTK also offers datasets\n",
        "# and tutorials for various NLP tasks.\n"
      ],
      "metadata": {
        "id": "8EmM4m3SOb73"
      }
    },
    {
      "cell_type": "markdown",
      "source": [
        "# **Question 2: What is SpaCy and how does it differ from NLTK?**\n",
        "# Answer:\n",
        "# SpaCy is an advanced NLP library focused on fast, efficient processing of large volumes of text. Unlike NLTK, which provides\n",
        "# a wide range of tools and tutorials, SpaCy is optimized for performance and is more suited for production systems, offering\n",
        "# built-in support for deep learning, part-of-speech tagging, named entity recognition (NER), and syntactic parsing.\n"
      ],
      "metadata": {
        "id": "n8RCJC1rOcqw"
      }
    },
    {
      "cell_type": "markdown",
      "source": [
        "# **Question 3: What is the purpose of TextBlob in NLP?**\n",
        "# Answer:\n",
        "# TextBlob is a simple NLP library built on top of NLTK and Pattern. It is designed for beginners and offers easy-to-use APIs\n",
        "# for tasks like text processing, sentiment analysis, translation, part-of-speech tagging, and noun phrase extraction.\n"
      ],
      "metadata": {
        "id": "NQyHlH6kOiRD"
      }
    },
    {
      "cell_type": "markdown",
      "source": [
        "# **Question 4: What is Stanford NLP?**\n",
        "# Answer:\n",
        "# Stanford NLP is a suite of NLP tools developed by the Stanford Natural Language Processing Group. It includes a variety\n",
        "# of pre-trained models for tasks such as part-of-speech tagging, named entity recognition, dependency parsing, and sentiment\n",
        "# analysis. It is widely known for its high accuracy and is implemented in Java.\n"
      ],
      "metadata": {
        "id": "x2GEK9hoPAN9"
      }
    },
    {
      "cell_type": "markdown",
      "source": [
        "# **Question 5: Explain what Recurrent Neural Networks (RNN) are?**\n",
        "# Answer:\n",
        "# Recurrent Neural Networks (RNNs) are a type of neural network designed for processing sequential data. Unlike traditional\n",
        "# neural networks, RNNs have loops that allow information to persist across time steps. This makes them well-suited for tasks\n",
        "# like language modeling, machine translation, and speech recognition.\n"
      ],
      "metadata": {
        "id": "7S0U0TeTPBfb"
      }
    },
    {
      "cell_type": "markdown",
      "source": [
        "# **Question 6: What is the main advantage of using LSTM over RNN?**\n",
        "# Answer:\n",
        "# LSTM (Long Short-Term Memory) networks address the vanishing gradient problem that occurs in RNNs, allowing them to\n",
        "# learn long-term dependencies in sequential data. LSTMs include memory cells and gates that help preserve important information\n",
        "# across longer sequences, making them more effective for tasks like speech recognition and text generation.\n"
      ],
      "metadata": {
        "id": "y11pApZWPCyw"
      }
    },
    {
      "cell_type": "markdown",
      "source": [
        "# **Question 7: What are Bi-directional LSTMs, and how do they differ from standard LSTMs?**\n",
        "# Answer:\n",
        "# Bi-directional LSTMs (BiLSTMs) process input sequences in both forward and backward directions, capturing information\n",
        "# from both past and future contexts. This is different from standard LSTMs, which process sequences only in the forward\n",
        "# direction. BiLSTMs are particularly useful for tasks where context from both directions is important, such as machine translation.\n"
      ],
      "metadata": {
        "id": "fyq9qHtNPEM4"
      }
    },
    {
      "cell_type": "markdown",
      "source": [
        "# **Question 8: What is the purpose of a Stacked LSTM?**\n",
        "# Answer:\n",
        "# A Stacked LSTM consists of multiple LSTM layers stacked on top of each other. This allows the model to learn more complex\n",
        "# features at different levels of abstraction. Stacked LSTMs are used to improve the model's ability to capture long-term dependencies\n",
        "# and handle more complicated sequences.\n"
      ],
      "metadata": {
        "id": "SbcXfPD3PFcF"
      }
    },
    {
      "cell_type": "markdown",
      "source": [
        "# **Question 9: How does a GRU (Gated Recurrent Unit) differ from an LSTM?**\n",
        "# Answer:\n",
        "# A GRU is a simplified version of LSTM with fewer gates. It combines the forget and input gates of an LSTM into a single update gate,\n",
        "# making it computationally more efficient. While both models perform similarly, GRUs are often faster and more effective on smaller datasets.\n"
      ],
      "metadata": {
        "id": "VNyK_mL4PGzr"
      }
    },
    {
      "cell_type": "markdown",
      "source": [
        "# **Question 10: What are the key features of NLTK's tokenization process?**\n",
        "# Answer:\n",
        "# NLTK's tokenization process includes splitting text into words or sentences using predefined rules. Key features include word\n",
        "# tokenization, sentence tokenization, and handling punctuation. NLTK provides functions like `word_tokenize` and `sent_tokenize`\n",
        "# to facilitate these tasks.\n"
      ],
      "metadata": {
        "id": "PIbR7FcOPIos"
      }
    },
    {
      "cell_type": "markdown",
      "source": [
        "# **Question 11: How do you perform named entity recognition (NER) using SpaCy?**\n",
        "# Answer:\n",
        "# To perform NER using SpaCy, you can load a pre-trained SpaCy model (e.g., `en_core_web_sm`) and use the `ents` attribute\n",
        "# of the processed text to extract named entities. Example:\n",
        "# `doc = nlp(\"Apple is looking at buying U.K. startup for $1 billion.\")`\n",
        "# `entities = doc.ents`\n"
      ],
      "metadata": {
        "id": "R1e2vOQ0PJ83"
      }
    },
    {
      "cell_type": "markdown",
      "source": [
        "# **Question 12: What is Word2Vec and how does it represent words?**\n",
        "# Answer:\n",
        "# Word2Vec is a popular algorithm for learning word embeddings, which are dense vector representations of words. It represents\n",
        "# words based on their contextual relationships in a corpus. Word2Vec models can be trained using either the Skip-gram or\n",
        "# Continuous Bag of Words (CBOW) approach.\n"
      ],
      "metadata": {
        "id": "hwZbkMnhPLU_"
      }
    },
    {
      "cell_type": "markdown",
      "source": [
        "# **Question 13: Explain the difference between Bag of Words (BoW) and Word2Vec.**\n",
        "# Answer:\n",
        "# Bag of Words (BoW) represents text by counting the frequency of each word in a document, treating words as independent features.\n",
        "# Word2Vec, on the other hand, represents words as continuous vector embeddings that capture semantic relationships and contextual\n",
        "# similarities between words.\n"
      ],
      "metadata": {
        "id": "lFCVXQ05PMjx"
      }
    },
    {
      "cell_type": "markdown",
      "source": [
        "# **Question 14: How does TextBlob handle sentiment analysis?**\n",
        "# Answer:\n",
        "# TextBlob performs sentiment analysis by using a predefined rule-based algorithm to determine the polarity and subjectivity\n",
        "# of text. It returns a polarity score (ranging from -1 to 1) that indicates sentiment (negative to positive) and a subjectivity score\n",
        "# (ranging from 0 to 1) that indicates the degree of opinion or fact.\n"
      ],
      "metadata": {
        "id": "2Olvmh-CPOG6"
      }
    },
    {
      "cell_type": "markdown",
      "source": [
        "# **Question 15: How would you implement text preprocessing using NLTK?**\n",
        "# Answer:\n",
        "# Text preprocessing in NLTK can include tokenization, stopword removal, stemming, and lemmatization. Example:\n",
        "# - Tokenization: `nltk.word_tokenize(text)`\n",
        "# - Stopword Removal: `nltk.corpus.stopwords.words('english')`\n",
        "# - Lemmatization: `nltk.WordNetLemmatizer()`\n"
      ],
      "metadata": {
        "id": "GBLNL3YmPPXS"
      }
    },
    {
      "cell_type": "markdown",
      "source": [
        "# **Question 16: How do you train a custom NER model using SpaCy?**\n",
        "# Answer:\n",
        "# To train a custom NER model in SpaCy, you can create a training dataset with labeled named entities and use the\n",
        "# `spacy.train` method. You would also need to define a `Pipeline` with the NER component and fine-tune the model with\n",
        "# your data using the `nlp.update` method.\n"
      ],
      "metadata": {
        "id": "RYXm1lAGPQ8S"
      }
    },
    {
      "cell_type": "markdown",
      "source": [
        "# **Question 17: What is the role of the attention mechanism in LSTMs and GRUs?**\n",
        "# Answer:\n",
        "# The attention mechanism allows LSTMs and GRUs to focus on specific parts of the input sequence, rather than treating\n",
        "# all inputs equally. This is especially useful in sequence-to-sequence models (like machine translation) where\n",
        "# the model needs to attend to different parts of the input at each time step.\n"
      ],
      "metadata": {
        "id": "_tGZKXOxPSUZ"
      }
    },
    {
      "cell_type": "markdown",
      "source": [
        "# **Question 18: What is the difference between tokenization and lemmatization in NLP?**\n",
        "# Answer:\n",
        "# Tokenization splits text into smaller units, such as words or sentences, while lemmatization reduces words to their base or root form.\n",
        "# Tokenization helps in breaking down text, and lemmatization improves consistency by standardizing word forms.\n"
      ],
      "metadata": {
        "id": "Pgi3XSSyPTxC"
      }
    },
    {
      "cell_type": "markdown",
      "source": [
        "# **Question 19: How do you perform text normalization in NLP?**\n",
        "# Answer:\n",
        "# Text normalization involves converting text into a standardized format by lowering case, removing punctuation,\n",
        "# and correcting spelling errors. It also includes lemmatization and removing stopwords to simplify the data for analysis.\n"
      ],
      "metadata": {
        "id": "Xtox5kg-PVDM"
      }
    },
    {
      "cell_type": "markdown",
      "source": [
        "# **Question 20: What is the purpose of frequency distribution in NLP?**\n",
        "# Answer:\n",
        "# Frequency distribution is used to count the occurrence of words or phrases in a corpus. It helps identify\n",
        "# important or dominant terms that can be used for text classification, topic modeling, or information retrieval.\n"
      ],
      "metadata": {
        "id": "QDYKGpyBPWZY"
      }
    },
    {
      "cell_type": "markdown",
      "source": [
        "# **Question 21: What are co-occurrence vectors in NLP?**\n",
        "# Answer:\n",
        "# Co-occurrence vectors represent the frequency with which words appear together within a specific context (e.g., within a\n",
        "# sliding window). These vectors are useful for capturing semantic relationships between words and can be used in models\n",
        "# like Word2Vec for word embeddings.\n"
      ],
      "metadata": {
        "id": "vbjzwYGGPXqU"
      }
    },
    {
      "cell_type": "markdown",
      "source": [
        "# **Question 22: How is Word2Vec used to find the relationship between words?**\n",
        "# Answer:\n",
        "# Word2Vec captures relationships between words by embedding them in a continuous vector space. Similar words\n",
        "# will have vectors close together. This allows the model to find relationships such as synonyms, antonyms, and analogies.\n"
      ],
      "metadata": {
        "id": "DJs26iujPY8B"
      }
    },
    {
      "cell_type": "markdown",
      "source": [
        "# **Question 23: How does a Bi-LSTM improve NLP tasks compared to a regular LSTM?**\n",
        "# Answer:\n",
        "# A Bi-LSTM processes the input sequence in both forward and backward directions, capturing contextual information from\n",
        "# both past and future states. This improves the model's performance on tasks where context from both directions is important,\n",
        "# such as machine translation or text summarization.\n"
      ],
      "metadata": {
        "id": "qDGniFKJPaLg"
      }
    },
    {
      "cell_type": "markdown",
      "source": [
        "# **Question 24: What is the difference between a GRU and an LSTM in terms of gate structures?**\n",
        "# Answer:\n",
        "# The main difference between GRUs and LSTMs is the gate structure. GRUs have two gates: the update gate and the reset gate,\n",
        "# while LSTMs have three gates: the input gate, forget gate, and output gate. This makes GRUs simpler and more computationally\n",
        "# efficient than LSTMs.\n"
      ],
      "metadata": {
        "id": "H1JtwDfsPblm"
      }
    },
    {
      "cell_type": "markdown",
      "source": [
        "# **Question 25: How does Stanford NLP’s dependency parsing work?**\n",
        "# Answer:\n",
        "# Stanford NLP's dependency parsing analyzes the syntactic structure of a sentence by establishing relationships between\n",
        "# words. It identifies the head word of each token and the dependency relations that describe how words are related in terms\n",
        "# of syntax.\n"
      ],
      "metadata": {
        "id": "ek945_xmPc0S"
      }
    },
    {
      "cell_type": "markdown",
      "source": [
        "# **Question 26: How does tokenization affect downstream NLP tasks?**\n",
        "# Answer:\n",
        "# Tokenization breaks text into smaller units, which are the building blocks for most downstream NLP tasks. Proper tokenization\n",
        "# ensures that these units are consistent and meaningful, enabling better accuracy in tasks like text classification, named\n",
        "# entity recognition, and machine translation.\n"
      ],
      "metadata": {
        "id": "cUsr31HVPeLY"
      }
    },
    {
      "cell_type": "markdown",
      "source": [
        "# **Question 27: What are some common applications of NLP?**\n",
        "# Answer:\n",
        "# Common NLP applications include sentiment analysis, machine translation, chatbots, named entity recognition,\n",
        "# part-of-speech tagging, text summarization, and speech recognition.\n"
      ],
      "metadata": {
        "id": "e6eaogzsPfob"
      }
    },
    {
      "cell_type": "markdown",
      "source": [
        "# **Question 28: What are stopwords and why are they removed in NLP?**\n",
        "# Answer:\n",
        "# Stopwords are common words (e.g., \"the\", \"and\", \"in\") that do not contribute significant meaning to a sentence.\n",
        "# They are removed during text preprocessing to reduce the size of the feature space and improve model performance.\n"
      ],
      "metadata": {
        "id": "_XL59Ez3Pg7t"
      }
    },
    {
      "cell_type": "markdown",
      "source": [
        "# **Question 29: How can you implement word embeddings using Word2Vec in Python?**\n",
        "# Answer:\n",
        "# You can implement word embeddings using Word2Vec in Python with the `gensim` library. Example:\n",
        "# ```\n",
        "# from gensim.models import Word2Vec\n",
        "# sentences = [[\"this\", \"is\", \"a\", \"sentence\"], [\"another\", \"sentence\"]]\n",
        "# model = Word2Vec(sentences, min_count=1)\n",
        "# word_vector = model.wv['sentence']\n",
        "# ```\n"
      ],
      "metadata": {
        "id": "tYlri0CkPiUC"
      }
    },
    {
      "cell_type": "markdown",
      "source": [
        "# **Question 30: How does SpaCy handle lemmatization?**\n",
        "# Answer:\n",
        "# SpaCy uses a built-in lemmatizer that reduces words to their base or root form based on part-of-speech tagging.\n",
        "# It can be applied directly on the `Token` object using `token.lemma_` to obtain the lemma of a word.\n"
      ],
      "metadata": {
        "id": "TypoKydUPjy4"
      }
    },
    {
      "cell_type": "markdown",
      "source": [
        "# **Question 31: What is the significance of RNNs in NLP tasks?**\n",
        "# Answer:\n",
        "# RNNs are significant in NLP tasks because they are designed to handle sequential data, making them well-suited\n",
        "# for tasks like language modeling, machine translation, and text generation, where context and previous inputs matter.\n"
      ],
      "metadata": {
        "id": "6n07nOZiPlAJ"
      }
    },
    {
      "cell_type": "markdown",
      "source": [
        "# **Question 32: How does word embedding improve the performance of NLP models?**\n",
        "# Answer:\n",
        "# Word embeddings improve NLP model performance by converting words into dense vector representations that capture\n",
        "# semantic relationships, making it easier for models to understand and generalize from large text data.\n"
      ],
      "metadata": {
        "id": "x-CVIU8lPmHx"
      }
    },
    {
      "cell_type": "markdown",
      "source": [
        "# **Question 33: How does a Stacked LSTM differ from a single LSTM?**\n",
        "# Answer:\n",
        "# A Stacked LSTM consists of multiple LSTM layers stacked on top of each other, allowing the model to learn more\n",
        "# complex representations. A single LSTM only uses one layer and may not capture as deep features as a stacked version.\n"
      ],
      "metadata": {
        "id": "QuNi3vR9PnZm"
      }
    },
    {
      "cell_type": "markdown",
      "source": [
        "# **Question 34: What are the key differences between RNN, LSTM, and GRU?**\n",
        "# Answer:\n",
        "# RNNs are basic networks for sequential data but suffer from vanishing gradient issues. LSTMs and GRUs are improved\n",
        "# versions of RNNs. LSTMs have memory cells and gates to store long-term dependencies, while GRUs simplify this with\n",
        "# fewer gates, making them computationally efficient but still capable of handling long-term dependencies.\n"
      ],
      "metadata": {
        "id": "nzS_QwjWPo31"
      }
    },
    {
      "cell_type": "markdown",
      "source": [
        "# **Question 35: Why is the attention mechanism important in sequence-to-sequence models?**\n",
        "# Answer:\n",
        "# The attention mechanism allows sequence-to-sequence models to focus on relevant parts of the input sequence at each time\n",
        "# step, improving performance in tasks like machine translation. It helps the model to \"attend\" to different sections of the\n",
        "# input depending on the output being generated.\n"
      ],
      "metadata": {
        "id": "46wj0_8MPqKv"
      }
    },
    {
      "cell_type": "markdown",
      "source": [
        "PRACTICAL"
      ],
      "metadata": {
        "id": "xwdZ_6IiPrgx"
      }
    },
    {
      "cell_type": "code",
      "source": [
        "# **1. How do you perform word tokenization using NLTK and plot a word frequency distribution:**\n",
        "\n",
        "import nltk\n",
        "\n",
        "# Download the punkt resource correctly\n",
        "nltk.download('punkt')\n",
        "\n",
        "# Ensure the punkt resource is downloaded correctly\n",
        "nltk.download('punkt_tab')\n",
        "\n",
        "# Proceed with tokenization\n",
        "from nltk.tokenize import word_tokenize\n",
        "from nltk.probability import FreqDist\n",
        "import matplotlib.pyplot as plt\n",
        "\n",
        "# Sample text\n",
        "text = \"Hello, how are you doing today? I hope you're doing well.\"\n",
        "\n",
        "# Perform word tokenization\n",
        "words = word_tokenize(text)\n",
        "\n",
        "# Create a frequency distribution\n",
        "freq_dist = FreqDist(words)\n",
        "\n",
        "# Plot the frequency distribution\n",
        "freq_dist.plot(30, cumulative=False)\n",
        "plt.show()\n",
        "\n"
      ],
      "metadata": {
        "colab": {
          "base_uri": "https://localhost:8080/",
          "height": 544
        },
        "id": "EV4IO-kOPx40",
        "outputId": "5def7f04-89b8-4fea-e3ca-f7719dc303a6"
      },
      "execution_count": 62,
      "outputs": [
        {
          "output_type": "stream",
          "name": "stderr",
          "text": [
            "[nltk_data] Downloading package punkt to /root/nltk_data...\n",
            "[nltk_data]   Package punkt is already up-to-date!\n",
            "[nltk_data] Downloading package punkt_tab to /root/nltk_data...\n",
            "[nltk_data]   Unzipping tokenizers/punkt_tab.zip.\n"
          ]
        },
        {
          "output_type": "display_data",
          "data": {
            "text/plain": [
              "<Figure size 640x480 with 1 Axes>"
            ],
            "image/png": "[encoded data removed]"
          },
          "metadata": {}
        }
      ]
    },
    {
      "cell_type": "code",
      "source": [
        "# **2. How do you use SpaCy for dependency parsing of a sentence:**\n",
        "\n",
        "# Import necessary libraries\n",
        "import spacy\n",
        "\n",
        "# Load SpaCy's English model\n",
        "nlp = spacy.load(\"en_core_web_sm\")\n",
        "\n",
        "# Sample sentence\n",
        "text = \"SpaCy makes it easy to perform dependency parsing.\"\n",
        "\n",
        "# Process the text\n",
        "doc = nlp(text)\n",
        "\n",
        "# Display the dependency parsing information\n",
        "for token in doc:\n",
        "    print(f'{token.text} --> {token.dep_} --> {token.head.text}')\n"
      ],
      "metadata": {
        "colab": {
          "base_uri": "https://localhost:8080/"
        },
        "id": "cb69_DnvQGMq",
        "outputId": "41e31668-69ae-4f0a-bc37-f22b272fbf25"
      },
      "execution_count": 63,
      "outputs": [
        {
          "output_type": "stream",
          "name": "stdout",
          "text": [
            "SpaCy --> nsubj --> makes\n",
            "makes --> ROOT --> makes\n",
            "it --> nsubj --> easy\n",
            "easy --> ccomp --> makes\n",
            "to --> aux --> perform\n",
            "perform --> advcl --> easy\n",
            "dependency --> compound --> parsing\n",
            "parsing --> dobj --> perform\n",
            ". --> punct --> makes\n"
          ]
        }
      ]
    },
    {
      "cell_type": "code",
      "source": [
        "# **3. How do you use TextBlob for performing text classification based on polarity:**\n",
        "\n",
        "# Import necessary libraries\n",
        "from textblob import TextBlob\n",
        "\n",
        "# Sample text\n",
        "text = \"I love this movie, it's amazing!\"\n",
        "\n",
        "# Perform text classification (polarity)\n",
        "blob = TextBlob(text)\n",
        "polarity = blob.sentiment.polarity\n",
        "\n",
        "print(f'Polarity: {polarity}')\n",
        "if polarity > 0:\n",
        "    print(\"The text is positive.\")\n",
        "elif polarity < 0:\n",
        "    print(\"The text is negative.\")\n",
        "else:\n",
        "    print(\"The text is neutral.\")\n"
      ],
      "metadata": {
        "colab": {
          "base_uri": "https://localhost:8080/"
        },
        "id": "Xwbhdve1QGm_",
        "outputId": "41537b74-b597-4eb8-8339-6a49982546de"
      },
      "execution_count": 64,
      "outputs": [
        {
          "output_type": "stream",
          "name": "stdout",
          "text": [
            "Polarity: 0.625\n",
            "The text is positive.\n"
          ]
        }
      ]
    },
    {
      "cell_type": "code",
      "source": [
        "# **4. How do you extract named entities from a text using SpaCy:**\n",
        "\n",
        "# Import necessary libraries\n",
        "import spacy\n",
        "\n",
        "# Load SpaCy's English model\n",
        "nlp = spacy.load(\"en_core_web_sm\")\n",
        "\n",
        "# Sample text\n",
        "text = \"Apple is looking to buy a startup in the UK for $1 billion.\"\n",
        "\n",
        "# Process the text\n",
        "doc = nlp(text)\n",
        "\n",
        "# Extract named entities\n",
        "for ent in doc.ents:\n",
        "    print(f'{ent.text} --> {ent.label_}')\n"
      ],
      "metadata": {
        "colab": {
          "base_uri": "https://localhost:8080/"
        },
        "id": "JgGBMGPoQIOc",
        "outputId": "36667e8b-afb0-4954-ae22-546aef61b101"
      },
      "execution_count": 65,
      "outputs": [
        {
          "output_type": "stream",
          "name": "stdout",
          "text": [
            "Apple --> ORG\n",
            "UK --> GPE\n",
            "$1 billion --> MONEY\n"
          ]
        }
      ]
    },
    {
      "cell_type": "code",
      "source": [
        "# **5. How can you calculate TF-IDF scores for a given text using Scikit-learn:**\n",
        "\n",
        "# Import necessary libraries\n",
        "from sklearn.feature_extraction.text import TfidfVectorizer\n",
        "\n",
        "# Sample text (corpus)\n",
        "corpus = [\"This is the first document.\", \"This document is the second document.\", \"And this is the third one.\"]\n",
        "\n",
        "# Initialize TF-IDF Vectorizer\n",
        "vectorizer = TfidfVectorizer()\n",
        "\n",
        "# Fit and transform the corpus\n",
        "X = vectorizer.fit_transform(corpus)\n",
        "\n",
        "# Convert the result to an array and print the TF-IDF scores\n",
        "print(\"TF-IDF Scores:\")\n",
        "print(X.toarray())\n",
        "\n",
        "# Display the feature names (words)\n",
        "print(\"Feature Names:\", vectorizer.get_feature_names_out())\n"
      ],
      "metadata": {
        "colab": {
          "base_uri": "https://localhost:8080/"
        },
        "id": "Re6JuXOHQJpd",
        "outputId": "bb5d8ffd-beaf-4542-e030-4db5871a4f03"
      },
      "execution_count": 66,
      "outputs": [
        {
          "output_type": "stream",
          "name": "stdout",
          "text": [
            "TF-IDF Scores:\n",
            "[[0.         0.46941728 0.61722732 0.3645444  0.         0.\n",
            "  0.3645444  0.         0.3645444 ]\n",
            " [0.         0.7284449  0.         0.28285122 0.         0.47890875\n",
            "  0.28285122 0.         0.28285122]\n",
            " [0.49711994 0.         0.         0.29360705 0.49711994 0.\n",
            "  0.29360705 0.49711994 0.29360705]]\n",
            "Feature Names: ['and' 'document' 'first' 'is' 'one' 'second' 'the' 'third' 'this']\n"
          ]
        }
      ]
    },
    {
      "cell_type": "code",
      "source": [
        "# **6. How do you create a custom text classifier using NLTK's Naive Bayes classifier:**\n",
        "\n",
        "# Import necessary libraries\n",
        "import nltk\n",
        "from nltk.corpus import movie_reviews\n",
        "from nltk.classify import NaiveBayesClassifier\n",
        "\n",
        "# Download necessary NLTK data\n",
        "nltk.download('movie_reviews')\n",
        "nltk.download('punkt')\n",
        "\n",
        "# Create feature extraction function\n",
        "def extract_features(words):\n",
        "    return {word: True for word in words}\n",
        "\n",
        "# Load movie review data\n",
        "positive_reviews = [(list(movie_reviews.words(fileid)), 'pos') for fileid in movie_reviews.fileids('pos')]\n",
        "negative_reviews = [(list(movie_reviews.words(fileid)), 'neg') for fileid in movie_reviews.fileids('neg')]\n",
        "\n",
        "# Combine data\n",
        "train_data = positive_reviews + negative_reviews\n",
        "\n",
        "# Extract features\n",
        "train_features = [(extract_features(words), category) for words, category in train_data]\n",
        "\n",
        "# Train the Naive Bayes classifier\n",
        "classifier = NaiveBayesClassifier.train(train_features)\n",
        "\n",
        "# Test with a new sentence\n",
        "test_sentence = \"This movie was fantastic!\"\n",
        "test_features = extract_features(test_sentence.split())\n",
        "\n",
        "# Classify the test sentence\n",
        "print(f'The sentiment of the review is: {classifier.classify(test_features)}')\n"
      ],
      "metadata": {
        "colab": {
          "base_uri": "https://localhost:8080/"
        },
        "id": "m8GQFPqhQLWY",
        "outputId": "29dcb7c9-2f37-4590-d781-cad3fc2f4653"
      },
      "execution_count": 67,
      "outputs": [
        {
          "output_type": "stream",
          "name": "stderr",
          "text": [
            "[nltk_data] Downloading package movie_reviews to /root/nltk_data...\n",
            "[nltk_data]   Unzipping corpora/movie_reviews.zip.\n",
            "[nltk_data] Downloading package punkt to /root/nltk_data...\n",
            "[nltk_data]   Package punkt is already up-to-date!\n"
          ]
        },
        {
          "output_type": "stream",
          "name": "stdout",
          "text": [
            "The sentiment of the review is: neg\n"
          ]
        }
      ]
    },
    {
      "cell_type": "code",
      "source": [
        "# **7. How do you use a pre-trained model from Hugging Face for text classification:**\n",
        "\n",
        "# Import necessary libraries\n",
        "from transformers import pipeline\n",
        "\n",
        "# Load a pre-trained model for text classification\n",
        "classifier = pipeline(\"sentiment-analysis\")\n",
        "\n",
        "# Sample text\n",
        "text = \"I love the new design of this app!\"\n",
        "\n",
        "# Perform sentiment analysis\n",
        "result = classifier(text)\n",
        "print(result)\n"
      ],
      "metadata": {
        "colab": {
          "base_uri": "https://localhost:8080/",
          "height": 339,
          "referenced_widgets": [
            "101283ba0097481aa33413a007cfb242",
            "212dc9e9aed4414696c1317f758bca43",
            "5587364834894f6ba86e92cf949b2995",
            "9d3750fc1ff04d9cb1a8487b3e8ccb9d",
            "4c32b03c71994e729959ff8b377ebc3d",
            "7ef3e054bbaa44aa8c1e5d8f84628140",
            "04b356261a8948ad968f8fa18f057b4f",
            "dcc16d3702de4de88d11ce888fdddbf7",
            "2572447585e64177b7142e5ed77398cb",
            "2f1f188a1efe4d92a6a0abdc5b95844f",
            "186aa6c79eaf4bc08f730885d4ac9b4a",
            "5752cd6b18684a06a5ef8a70b1efca9a",
            "4f87d4cd0b6e431b8497a49ab25880cd",
            "c01654e531204025925c0f547cc635f2",
            "5e94bb0139c44f15b1c6a5b5b71737d4",
            "f29c2db092b04a53a918cb08d910e71e",
            "7b886e9df7f147c1b15a65aa1873e283",
            "386d1409ccdb4a349a671fa6401ed0e1",
            "c9a8408321f54ee38eacabb03cf73c0a",
            "1a04bfe5b23142ea8183fa68c408991a",
            "511bd06161f042a7ba14800c1f20d028",
            "f66fb209ca13472cb55c12650b846ac3",
            "981fee104729400485ebf46837e30e3f",
            "f1d890d3209649ac9706fcde0d7f716b",
            "db3cff0d577544c29c220fe5212cb080",
            "0302f7961deb4264b6c0e9009d1e77dd",
            "d167759db5384b8088f627f0543555a4",
            "9018e8a7540c4b3e83af5e361f520838",
            "b1f127e2c372481fb8d29e9ff9f37879",
            "eae253fda8724df6a25edc86e149d508",
            "b1f5bda9f1df4b7da1d8e7fdbd05792d",
            "11e4ae416f6d446191c4c946570f190d",
            "11dff2b41e7842548541bb58cb78e19c",
            "3e194c72546d4207814e67675f035fb7",
            "0e4b74c19e944c77b4a673d33c02797d",
            "5acc9d9a30784092bc57fca81ba9ea06",
            "4a88ba4fdb05480fba2972ee19366e62",
            "c6d2674a4dba4327a1dcc976b4b9cd07",
            "67dcadd852f84115b9e5719009443bb4",
            "e29d8d8970cf4814bf8fb800e0d61497",
            "3bfd1389dff542c09d9974c0f0b31965",
            "841face34bb7456a91c17c4e31c82757",
            "cd84e0b49bda4e83b9b099206a464f28",
            "9c98a14541b44087a6f51240b88c8cd2"
          ]
        },
        "id": "gzQHTfNCQMvc",
        "outputId": "bafb3603-e7ea-4faf-9db9-0151a35b45f9"
      },
      "execution_count": 68,
      "outputs": [
        {
          "output_type": "stream",
          "name": "stderr",
          "text": [
            "No model was supplied, defaulted to distilbert/distilbert-base-uncased-finetuned-sst-2-english and revision 714eb0f (https://huggingface.co/distilbert/distilbert-base-uncased-finetuned-sst-2-english).\n",
            "Using a pipeline without specifying a model name and revision in production is not recommended.\n",
            "/usr/local/lib/python3.11/dist-packages/huggingface_hub/utils/_auth.py:94: UserWarning: \n",
            "The secret `HF_TOKEN` does not exist in your Colab secrets.\n",
            "To authenticate with the Hugging Face Hub, create a token in your settings tab (https://huggingface.co/settings/tokens), set it as secret in your Google Colab and restart your session.\n",
            "You will be able to reuse this secret in all of your notebooks.\n",
            "Please note that authentication is recommended but still optional to access public models or datasets.\n",
            "  warnings.warn(\n"
          ]
        },
        {
          "output_type": "display_data",
          "data": {
            "text/plain": [
              "config.json:   0%|          | 0.00/629 [00:00<?, ?B/s]"
            ],
            "application/vnd.jupyter.widget-view+json": {
              "version_major": 2,
              "version_minor": 0,
              "model_id": "101283ba0097481aa33413a007cfb242"
            }
          },
          "metadata": {}
        },
        {
          "output_type": "display_data",
          "data": {
            "text/plain": [
              "model.safetensors:   0%|          | 0.00/268M [00:00<?, ?B/s]"
            ],
            "application/vnd.jupyter.widget-view+json": {
              "version_major": 2,
              "version_minor": 0,
              "model_id": "5752cd6b18684a06a5ef8a70b1efca9a"
            }
          },
          "metadata": {}
        },
        {
          "output_type": "display_data",
          "data": {
            "text/plain": [
              "tokenizer_config.json:   0%|          | 0.00/48.0 [00:00<?, ?B/s]"
            ],
            "application/vnd.jupyter.widget-view+json": {
              "version_major": 2,
              "version_minor": 0,
              "model_id": "981fee104729400485ebf46837e30e3f"
            }
          },
          "metadata": {}
        },
        {
          "output_type": "display_data",
          "data": {
            "text/plain": [
              "vocab.txt:   0%|          | 0.00/232k [00:00<?, ?B/s]"
            ],
            "application/vnd.jupyter.widget-view+json": {
              "version_major": 2,
              "version_minor": 0,
              "model_id": "3e194c72546d4207814e67675f035fb7"
            }
          },
          "metadata": {}
        },
        {
          "output_type": "stream",
          "name": "stderr",
          "text": [
            "Device set to use cpu\n"
          ]
        },
        {
          "output_type": "stream",
          "name": "stdout",
          "text": [
            "[{'label': 'POSITIVE', 'score': 0.9998538494110107}]\n"
          ]
        }
      ]
    },
    {
      "cell_type": "code",
      "source": [
        "# **8. How do you perform text summarization using Hugging Face transformers:**\n",
        "\n",
        "# Import necessary libraries\n",
        "from transformers import pipeline\n",
        "\n",
        "# Load the pre-trained model for summarization\n",
        "summarizer = pipeline(\"summarization\")\n",
        "\n",
        "# Sample long text\n",
        "text = \"\"\"\n",
        "The natural language processing (NLP) field has seen tremendous advances in the past few years.\n",
        "New techniques like BERT, GPT-3, and T5 have revolutionized how we approach tasks like text classification, summarization, and translation.\n",
        "These models have achieved state-of-the-art results across many NLP tasks.\n",
        "\"\"\"\n",
        "\n",
        "# Perform summarization\n",
        "summary = summarizer(text, max_length=50, min_length=25, do_sample=False)\n",
        "print(\"Summary:\", summary[0]['summary_text'])\n"
      ],
      "metadata": {
        "colab": {
          "base_uri": "https://localhost:8080/",
          "height": 266,
          "referenced_widgets": [
            "445be6dcd03e4bed938ec20aeb382446",
            "ee99649a4a934c149acd0fbc4df374b9",
            "7822f1b702cf4ebe86284b9a301b9a1b",
            "3ee75aff6ac34371aa310d4b2c36d65f",
            "98a13ca2ad2146cbac7df08ce060a7bc",
            "2e79ae24d5db4dccb3be250fe53619ea",
            "efad393a1c024897a7f6a9335c1fb302",
            "dbf92c055e904b4fb7da0dd9dbe541e5",
            "a37ce634f28248468fc5d15f3b71bf2e",
            "38fe17fb8375498f9b4f3874e715913f",
            "877c286006f545249eee1fbf6b865dd3",
            "41403e786ae54d04853eeecea097975e",
            "d034a107599642a7bde88467d5d429eb",
            "b1a7256cbde54be29fe5f7de7e771f7f",
            "d8118384636d4ae0aa6c0c3fb5d8e60f",
            "dd788141ee4b4d19acb597c2d8c069b4",
            "98cf453a52f0418f9daf930f27fd2844",
            "9eb4598fbb2841e7af21c94125c30ecb",
            "d339b20bfe8d4681b7f63886cae137e0",
            "7d1c915f69674ca2b80baccb4a2bda83",
            "b5a640f0aab544f3b3972304970ac00c",
            "12f2c094eb514906a94eefa48a2d843f",
            "793b68eba9e0448cb2041f956cbd3617",
            "f3e9f2beea0c40d78041d7529c8c6758",
            "6cefca5461cb409088f315509712cec0",
            "4be85e5943e341dda4d93b1b4f1347a0",
            "d7e94a38898f4fbb874458c6d00961e8",
            "2330db267f5c43538b34421fad738482",
            "1089da1bd82a4b6ca3e8e6b462b861bb",
            "2bee7574bd804daa86a04035729d676c",
            "ec2c69d18753406589aaab5ebdad4617",
            "a56a3e6a8e584df891f235404082694e",
            "fa08746e01e3497d9ccc1ab45c166f7f",
            "a576eefaecc54f99984cc85f88fd3eac",
            "e92982ab50ba4b10830838271653554a",
            "736da16606d34bcc8040f57857435e28",
            "d8f774c06ff7490da97bdf3327fe822c",
            "1b9af24b1fe94770b7d2d0b10c52ee54",
            "cf7f2d180d434ea6b98f575ac621edcb",
            "90d0f7c8d487449fb0cb593c64b5eebc",
            "819ad90692fc42b2b3913b3d1cc52af3",
            "da1d3c2d0c534b878e0759c51a2b2014",
            "986be78175394a1397d11be1fe06878d",
            "8522dae52b6a4ce0892c992e9b4d159c",
            "d6de780433f247b5bd9f346fbf1aed2c",
            "063d0eea458244df84f390b20dca4ace",
            "1872cacce5e74d559f188241329125b6",
            "3f58e0942af44a21ad7d0ca81b7edced",
            "05c684b8bc6d45b6aade34ff03781980",
            "25ebe7cddfe54cd68c781f57fe9c6034",
            "80d9017d95e045cb87f7b80ae8bfb461",
            "27893946b3e044bb823335467082a182",
            "fc9de44cc55a41db841b3e56e6749d72",
            "e3863ab92b0046c3be42b009dea55d32",
            "3d54b70874cb425fa50f416db6322c9d"
          ]
        },
        "id": "iqouRDSJQOU-",
        "outputId": "a466f621-6385-4a15-b245-377eb5b9fe79"
      },
      "execution_count": 69,
      "outputs": [
        {
          "output_type": "stream",
          "name": "stderr",
          "text": [
            "No model was supplied, defaulted to sshleifer/distilbart-cnn-12-6 and revision a4f8f3e (https://huggingface.co/sshleifer/distilbart-cnn-12-6).\n",
            "Using a pipeline without specifying a model name and revision in production is not recommended.\n"
          ]
        },
        {
          "output_type": "display_data",
          "data": {
            "text/plain": [
              "config.json:   0%|          | 0.00/1.80k [00:00<?, ?B/s]"
            ],
            "application/vnd.jupyter.widget-view+json": {
              "version_major": 2,
              "version_minor": 0,
              "model_id": "445be6dcd03e4bed938ec20aeb382446"
            }
          },
          "metadata": {}
        },
        {
          "output_type": "display_data",
          "data": {
            "text/plain": [
              "pytorch_model.bin:   0%|          | 0.00/1.22G [00:00<?, ?B/s]"
            ],
            "application/vnd.jupyter.widget-view+json": {
              "version_major": 2,
              "version_minor": 0,
              "model_id": "41403e786ae54d04853eeecea097975e"
            }
          },
          "metadata": {}
        },
        {
          "output_type": "display_data",
          "data": {
            "text/plain": [
              "tokenizer_config.json:   0%|          | 0.00/26.0 [00:00<?, ?B/s]"
            ],
            "application/vnd.jupyter.widget-view+json": {
              "version_major": 2,
              "version_minor": 0,
              "model_id": "793b68eba9e0448cb2041f956cbd3617"
            }
          },
          "metadata": {}
        },
        {
          "output_type": "display_data",
          "data": {
            "text/plain": [
              "vocab.json:   0%|          | 0.00/899k [00:00<?, ?B/s]"
            ],
            "application/vnd.jupyter.widget-view+json": {
              "version_major": 2,
              "version_minor": 0,
              "model_id": "a576eefaecc54f99984cc85f88fd3eac"
            }
          },
          "metadata": {}
        },
        {
          "output_type": "display_data",
          "data": {
            "text/plain": [
              "merges.txt:   0%|          | 0.00/456k [00:00<?, ?B/s]"
            ],
            "application/vnd.jupyter.widget-view+json": {
              "version_major": 2,
              "version_minor": 0,
              "model_id": "d6de780433f247b5bd9f346fbf1aed2c"
            }
          },
          "metadata": {}
        },
        {
          "output_type": "stream",
          "name": "stderr",
          "text": [
            "Device set to use cpu\n"
          ]
        },
        {
          "output_type": "stream",
          "name": "stdout",
          "text": [
            "Summary:  The natural language processing (NLP) field has seen tremendous advances in the past few years . New techniques like BERT, GPT-3, and T5 have revolutionized how we approach tasks like text classification, summarization,\n"
          ]
        }
      ]
    },
    {
      "cell_type": "code",
      "source": [
        "# **9. How can you create a simple RNN for text classification using Keras:**\n",
        "\n",
        "# Import necessary libraries\n",
        "import numpy as np\n",
        "from tensorflow.keras.models import Sequential\n",
        "from tensorflow.keras.layers import Embedding, SimpleRNN, Dense\n",
        "from tensorflow.keras.preprocessing.text import Tokenizer\n",
        "from tensorflow.keras.preprocessing.sequence import pad_sequences\n",
        "\n",
        "# Sample text data and labels\n",
        "texts = [\"I love this movie\", \"This movie was terrible\", \"Best movie ever\", \"Worst movie ever\"]\n",
        "labels = [1, 0, 1, 0]  # 1 = positive, 0 = negative\n",
        "\n",
        "# Tokenize the text data\n",
        "tokenizer = Tokenizer(num_words=1000)\n",
        "tokenizer.fit_on_texts(texts)\n",
        "sequences = tokenizer.texts_to_sequences(texts)\n",
        "\n",
        "# Pad sequences to ensure equal length\n",
        "X = pad_sequences(sequences, padding='post')\n",
        "\n",
        "# Convert labels to numpy array\n",
        "labels = np.array(labels)\n",
        "\n",
        "# Define the RNN model\n",
        "model = Sequential()\n",
        "model.add(Embedding(input_dim=1000, output_dim=64))  # Embedding layer for word vectorization\n",
        "model.add(SimpleRNN(64, return_sequences=False))  # RNN layer with 64 units\n",
        "model.add(Dense(1, activation='sigmoid'))  # Output layer for binary classification\n",
        "\n",
        "# Compile the model\n",
        "model.compile(optimizer='adam', loss='binary_crossentropy', metrics=['accuracy'])\n",
        "\n",
        "# Train the model\n",
        "model.fit(X, labels, epochs=5)\n"
      ],
      "metadata": {
        "colab": {
          "base_uri": "https://localhost:8080/"
        },
        "id": "ZOWS2c2XQPoA",
        "outputId": "1c15b218-4f85-42f3-9b1a-e179c7595dd9"
      },
      "execution_count": 72,
      "outputs": [
        {
          "output_type": "stream",
          "name": "stdout",
          "text": [
            "Epoch 1/5\n",
            "\u001b[1m1/1\u001b[0m \u001b[32m━━━━━━━━━━━━━━━━━━━━\u001b[0m\u001b[37m\u001b[0m \u001b[1m5s\u001b[0m 5s/step - accuracy: 0.7500 - loss: 0.6945\n",
            "Epoch 2/5\n",
            "\u001b[1m1/1\u001b[0m \u001b[32m━━━━━━━━━━━━━━━━━━━━\u001b[0m\u001b[37m\u001b[0m \u001b[1m0s\u001b[0m 93ms/step - accuracy: 0.7500 - loss: 0.6730\n",
            "Epoch 3/5\n",
            "\u001b[1m1/1\u001b[0m \u001b[32m━━━━━━━━━━━━━━━━━━━━\u001b[0m\u001b[37m\u001b[0m \u001b[1m0s\u001b[0m 43ms/step - accuracy: 1.0000 - loss: 0.6517\n",
            "Epoch 4/5\n",
            "\u001b[1m1/1\u001b[0m \u001b[32m━━━━━━━━━━━━━━━━━━━━\u001b[0m\u001b[37m\u001b[0m \u001b[1m0s\u001b[0m 58ms/step - accuracy: 1.0000 - loss: 0.6305\n",
            "Epoch 5/5\n",
            "\u001b[1m1/1\u001b[0m \u001b[32m━━━━━━━━━━━━━━━━━━━━\u001b[0m\u001b[37m\u001b[0m \u001b[1m0s\u001b[0m 60ms/step - accuracy: 1.0000 - loss: 0.6089\n"
          ]
        },
        {
          "output_type": "execute_result",
          "data": {
            "text/plain": [
              "<keras.src.callbacks.history.History at 0x7f230a11ec90>"
            ]
          },
          "metadata": {},
          "execution_count": 72
        }
      ]
    },
    {
      "cell_type": "code",
      "source": [
        "# **10. How do you train a Bidirectional LSTM for text classification:**\n",
        "\n",
        "# Import necessary libraries\n",
        "from tensorflow.keras.layers import Bidirectional, LSTM\n",
        "\n",
        "# Define the Bidirectional LSTM model\n",
        "model = Sequential()\n",
        "model.add(Embedding(input_dim=1000, output_dim=64))\n",
        "model.add(Bidirectional(LSTM(64)))\n",
        "model.add(Dense(1, activation='sigmoid'))\n",
        "\n",
        "# Compile the model\n",
        "model.compile(optimizer='adam', loss='binary_crossentropy', metrics=['accuracy'])\n",
        "\n",
        "# Train the model\n",
        "model.fit(X, labels, epochs=5)\n"
      ],
      "metadata": {
        "colab": {
          "base_uri": "https://localhost:8080/"
        },
        "id": "IIByte28QQ7H",
        "outputId": "da5417bb-8f8d-4fcf-ee9a-f6544d9ac2ef"
      },
      "execution_count": 73,
      "outputs": [
        {
          "output_type": "stream",
          "name": "stdout",
          "text": [
            "Epoch 1/5\n",
            "\u001b[1m1/1\u001b[0m \u001b[32m━━━━━━━━━━━━━━━━━━━━\u001b[0m\u001b[37m\u001b[0m \u001b[1m5s\u001b[0m 5s/step - accuracy: 0.2500 - loss: 0.6935\n",
            "Epoch 2/5\n",
            "\u001b[1m1/1\u001b[0m \u001b[32m━━━━━━━━━━━━━━━━━━━━\u001b[0m\u001b[37m\u001b[0m \u001b[1m0s\u001b[0m 37ms/step - accuracy: 0.5000 - loss: 0.6910\n",
            "Epoch 3/5\n",
            "\u001b[1m1/1\u001b[0m \u001b[32m━━━━━━━━━━━━━━━━━━━━\u001b[0m\u001b[37m\u001b[0m \u001b[1m0s\u001b[0m 59ms/step - accuracy: 1.0000 - loss: 0.6884\n",
            "Epoch 4/5\n",
            "\u001b[1m1/1\u001b[0m \u001b[32m━━━━━━━━━━━━━━━━━━━━\u001b[0m\u001b[37m\u001b[0m \u001b[1m0s\u001b[0m 57ms/step - accuracy: 1.0000 - loss: 0.6859\n",
            "Epoch 5/5\n",
            "\u001b[1m1/1\u001b[0m \u001b[32m━━━━━━━━━━━━━━━━━━━━\u001b[0m\u001b[37m\u001b[0m \u001b[1m0s\u001b[0m 60ms/step - accuracy: 1.0000 - loss: 0.6832\n"
          ]
        },
        {
          "output_type": "execute_result",
          "data": {
            "text/plain": [
              "<keras.src.callbacks.history.History at 0x7f23092fe250>"
            ]
          },
          "metadata": {},
          "execution_count": 73
        }
      ]
    },
    {
      "cell_type": "code",
      "source": [
        "# **11. How do you implement GRU (Gated Recurrent Unit) for text classification:**\n",
        "\n",
        "# Import necessary libraries\n",
        "from tensorflow.keras.layers import GRU\n",
        "\n",
        "# Define the GRU model\n",
        "model = Sequential()\n",
        "model.add(Embedding(input_dim=1000, output_dim=64))\n",
        "model.add(GRU(64))\n",
        "model.add(Dense(1, activation='sigmoid'))\n",
        "\n",
        "# Compile the model\n",
        "model.compile(optimizer='adam', loss='binary_crossentropy', metrics=['accuracy'])\n",
        "\n",
        "# Train the model\n",
        "model.fit(X, labels, epochs=5)\n"
      ],
      "metadata": {
        "colab": {
          "base_uri": "https://localhost:8080/"
        },
        "id": "AvSqAlx_QSRe",
        "outputId": "d82485f2-cb83-46b6-ddab-4e23c9533432"
      },
      "execution_count": 74,
      "outputs": [
        {
          "output_type": "stream",
          "name": "stdout",
          "text": [
            "Epoch 1/5\n",
            "\u001b[1m1/1\u001b[0m \u001b[32m━━━━━━━━━━━━━━━━━━━━\u001b[0m\u001b[37m\u001b[0m \u001b[1m3s\u001b[0m 3s/step - accuracy: 0.7500 - loss: 0.6880\n",
            "Epoch 2/5\n",
            "\u001b[1m1/1\u001b[0m \u001b[32m━━━━━━━━━━━━━━━━━━━━\u001b[0m\u001b[37m\u001b[0m \u001b[1m0s\u001b[0m 50ms/step - accuracy: 0.7500 - loss: 0.6847\n",
            "Epoch 3/5\n",
            "\u001b[1m1/1\u001b[0m \u001b[32m━━━━━━━━━━━━━━━━━━━━\u001b[0m\u001b[37m\u001b[0m \u001b[1m0s\u001b[0m 59ms/step - accuracy: 0.7500 - loss: 0.6814\n",
            "Epoch 4/5\n",
            "\u001b[1m1/1\u001b[0m \u001b[32m━━━━━━━━━━━━━━━━━━━━\u001b[0m\u001b[37m\u001b[0m \u001b[1m0s\u001b[0m 56ms/step - accuracy: 0.7500 - loss: 0.6780\n",
            "Epoch 5/5\n",
            "\u001b[1m1/1\u001b[0m \u001b[32m━━━━━━━━━━━━━━━━━━━━\u001b[0m\u001b[37m\u001b[0m \u001b[1m0s\u001b[0m 38ms/step - accuracy: 1.0000 - loss: 0.6745\n"
          ]
        },
        {
          "output_type": "execute_result",
          "data": {
            "text/plain": [
              "<keras.src.callbacks.history.History at 0x7f23067f2450>"
            ]
          },
          "metadata": {},
          "execution_count": 74
        }
      ]
    },
    {
      "cell_type": "code",
      "source": [
        "import numpy as np\n",
        "from tensorflow.keras.models import Sequential\n",
        "from tensorflow.keras.layers import LSTM, Dense, Embedding\n",
        "from tensorflow.keras.preprocessing.text import Tokenizer\n",
        "from tensorflow.keras.preprocessing.sequence import pad_sequences\n",
        "from tensorflow.keras.utils import to_categorical\n",
        "\n",
        "# Sample text data (simple example)\n",
        "texts = [\"hello world\", \"hello there\", \"hello machine\", \"world machine\", \"hello world machine\"]\n",
        "\n",
        "# Tokenize the text data\n",
        "tokenizer = Tokenizer()\n",
        "tokenizer.fit_on_texts(texts)\n",
        "sequences = tokenizer.texts_to_sequences(texts)\n",
        "\n",
        "# Print tokenizer word index\n",
        "print(\"Tokenizer word index:\", tokenizer.word_index)\n",
        "\n",
        "# Pad sequences to ensure equal length\n",
        "X = pad_sequences(sequences, padding='post')\n",
        "\n",
        "# Create input-output pairs for text generation\n",
        "X_input = X[:, :-1]  # Input: all words except the last one\n",
        "Y_output = X[:, 1:]  # Output: all words except the first one (shifted by one position)\n",
        "\n",
        "# One-hot encode the output labels (Y)\n",
        "Y_output = to_categorical(Y_output, num_classes=len(tokenizer.word_index) + 1)\n",
        "\n",
        "# Check shapes\n",
        "print(\"X_input shape:\", X_input.shape)\n",
        "print(\"Y_output shape:\", Y_output.shape)\n",
        "\n",
        "# Define the LSTM-based text generation model\n",
        "model = Sequential()\n",
        "model.add(Embedding(input_dim=len(tokenizer.word_index) + 1, output_dim=10, input_length=X_input.shape[1]))  # Embedding layer for word vectorization\n",
        "model.add(LSTM(50, return_sequences=True))  # LSTM layer with 50 units and return sequences\n",
        "model.add(Dense(len(tokenizer.word_index) + 1, activation='softmax'))  # Output layer with softmax for word prediction\n",
        "\n",
        "# Compile the model\n",
        "model.compile(optimizer='adam', loss='categorical_crossentropy', metrics=['accuracy'])\n",
        "\n",
        "# Train the model\n",
        "model.fit(X_input, Y_output, epochs=5)\n"
      ],
      "metadata": {
        "colab": {
          "base_uri": "https://localhost:8080/"
        },
        "id": "WcQJ0T4GQVn6",
        "outputId": "73602cc3-aff1-42ee-ceba-2bd247d09060"
      },
      "execution_count": 86,
      "outputs": [
        {
          "output_type": "stream",
          "name": "stdout",
          "text": [
            "Tokenizer word index: {'hello': 1, 'world': 2, 'machine': 3, 'there': 4}\n",
            "X_input shape: (5, 2)\n",
            "Y_output shape: (5, 2, 5)\n",
            "Epoch 1/5\n",
            "\u001b[1m1/1\u001b[0m \u001b[32m━━━━━━━━━━━━━━━━━━━━\u001b[0m\u001b[37m\u001b[0m \u001b[1m7s\u001b[0m 7s/step - accuracy: 0.0000e+00 - loss: 1.6088\n",
            "Epoch 2/5\n",
            "\u001b[1m1/1\u001b[0m \u001b[32m━━━━━━━━━━━━━━━━━━━━\u001b[0m\u001b[37m\u001b[0m \u001b[1m0s\u001b[0m 50ms/step - accuracy: 0.3000 - loss: 1.6064\n",
            "Epoch 3/5\n",
            "\u001b[1m1/1\u001b[0m \u001b[32m━━━━━━━━━━━━━━━━━━━━\u001b[0m\u001b[37m\u001b[0m \u001b[1m0s\u001b[0m 62ms/step - accuracy: 0.4000 - loss: 1.6040\n",
            "Epoch 4/5\n",
            "\u001b[1m1/1\u001b[0m \u001b[32m━━━━━━━━━━━━━━━━━━━━\u001b[0m\u001b[37m\u001b[0m \u001b[1m0s\u001b[0m 53ms/step - accuracy: 0.4000 - loss: 1.6015\n",
            "Epoch 5/5\n",
            "\u001b[1m1/1\u001b[0m \u001b[32m━━━━━━━━━━━━━━━━━━━━\u001b[0m\u001b[37m\u001b[0m \u001b[1m0s\u001b[0m 55ms/step - accuracy: 0.4000 - loss: 1.5990\n"
          ]
        },
        {
          "output_type": "execute_result",
          "data": {
            "text/plain": [
              "<keras.src.callbacks.history.History at 0x7f2309406ed0>"
            ]
          },
          "metadata": {},
          "execution_count": 86
        }
      ]
    },
    {
      "cell_type": "code",
      "source": [
        "# **13. How do you implement a simple Bi-directional GRU for sequence labeling:**\n",
        "import numpy as np\n",
        "from tensorflow.keras.models import Sequential\n",
        "from tensorflow.keras.layers import Embedding, Bidirectional, GRU, Dense\n",
        "\n",
        "# Sample input (3 sequences, each with 5 time steps)\n",
        "X = np.random.randint(0, 1000, size=(3, 5))\n",
        "\n",
        "# Sample output (3 sequences, each with 5 time steps, and 6 possible labels)\n",
        "Y = np.random.randint(0, 6, size=(3, 5, 6))\n",
        "\n",
        "# Define the Bi-directional GRU model for sequence labeling\n",
        "model = Sequential()\n",
        "model.add(Embedding(input_dim=1000, output_dim=64))\n",
        "model.add(Bidirectional(GRU(64, return_sequences=True)))\n",
        "model.add(Dense(6, activation='softmax'))  # 6 possible labels for each time step\n",
        "\n",
        "# Compile the model\n",
        "model.compile(optimizer='adam', loss='categorical_crossentropy', metrics=['accuracy'])\n",
        "\n",
        "# Train the model\n",
        "model.fit(X, Y, epochs=5)\n"
      ],
      "metadata": {
        "colab": {
          "base_uri": "https://localhost:8080/"
        },
        "id": "s0GF6cKGQXO3",
        "outputId": "e93e98c8-abd2-4104-9f77-cb98f669d240"
      },
      "execution_count": 84,
      "outputs": [
        {
          "output_type": "stream",
          "name": "stdout",
          "text": [
            "Epoch 1/5\n",
            "\u001b[1m1/1\u001b[0m \u001b[32m━━━━━━━━━━━━━━━━━━━━\u001b[0m\u001b[37m\u001b[0m \u001b[1m13s\u001b[0m 13s/step - accuracy: 0.0667 - loss: 28.4562\n",
            "Epoch 2/5\n",
            "\u001b[1m1/1\u001b[0m \u001b[32m━━━━━━━━━━━━━━━━━━━━\u001b[0m\u001b[37m\u001b[0m \u001b[1m0s\u001b[0m 109ms/step - accuracy: 0.2000 - loss: 28.4393\n",
            "Epoch 3/5\n",
            "\u001b[1m1/1\u001b[0m \u001b[32m━━━━━━━━━━━━━━━━━━━━\u001b[0m\u001b[37m\u001b[0m \u001b[1m0s\u001b[0m 58ms/step - accuracy: 0.2667 - loss: 28.4230\n",
            "Epoch 4/5\n",
            "\u001b[1m1/1\u001b[0m \u001b[32m━━━━━━━━━━━━━━━━━━━━\u001b[0m\u001b[37m\u001b[0m \u001b[1m0s\u001b[0m 40ms/step - accuracy: 0.2000 - loss: 28.4074\n",
            "Epoch 5/5\n",
            "\u001b[1m1/1\u001b[0m \u001b[32m━━━━━━━━━━━━━━━━━━━━\u001b[0m\u001b[37m\u001b[0m \u001b[1m0s\u001b[0m 41ms/step - accuracy: 0.2667 - loss: 28.3923\n"
          ]
        },
        {
          "output_type": "execute_result",
          "data": {
            "text/plain": [
              "<keras.src.callbacks.history.History at 0x7f23074f7650>"
            ]
          },
          "metadata": {},
          "execution_count": 84
        }
      ]
    }
  ]
}